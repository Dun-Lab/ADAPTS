{
 "cells": [
  {
   "cell_type": "markdown",
   "metadata": {},
   "source": [
    "# Cell-cell communication (CCC)"
   ]
  },
  {
   "cell_type": "code",
   "execution_count": null,
   "metadata": {},
   "outputs": [],
   "source": [
    "* Tool: cellchat\n",
    "* Github: https://github.com/sqjin/CellChat\n",
    "* Paper: https://www.nature.com/articles/s41467-021-21246-9"
   ]
  },
  {
   "cell_type": "code",
   "execution_count": null,
   "metadata": {},
   "outputs": [],
   "source": [
    "library(CellChat)\n",
    "library(patchwork)\n",
    "options(stringsAsFactors = FALSE)\n",
    "# reticulate::use_python(\"/Users/suoqinjin/anaconda3/bin/python\", required=T) "
   ]
  },
  {
   "cell_type": "code",
   "execution_count": null,
   "metadata": {},
   "outputs": [],
   "source": [
    "sce <- zellkonverter::readH5AD(file = \"adata.h5ad\")\n",
    "# retrieve all the available assays within sce object\n",
    "assayNames(sce)\n",
    "# added a new assay entry \"logcounts\" if not available\n",
    "counts <- assay(sce, \"X\") # make sure this is the original count data matrix\n",
    "library.size <- Matrix::colSums(counts)\n",
    "logcounts(sce) <- log1p(Matrix::t(Matrix::t(counts)/library.size) * 10000)\n",
    "# extract a cell meta data\n",
    "meta <- as.data.frame(SingleCellExperiment::colData(sce)) #\n",
    "cellChat <- createCellChat(object = sce, group.by = \"sce.clusters\")"
   ]
  },
  {
   "cell_type": "code",
   "execution_count": null,
   "metadata": {},
   "outputs": [],
   "source": [
    "cellchat <- addMeta(cellchat, meta = meta)\n",
    "cellchat <- setIdent(cellchat, ident.use = \"labels\") # set \"labels\" as default cell identity\n",
    "levels(cellchat@idents) # show factor levels of the cell labels\n",
    "groupSize <- as.numeric(table(cellchat@idents)) # number of cells in each cell group"
   ]
  }
 ],
 "metadata": {
  "language_info": {
   "name": "python"
  }
 },
 "nbformat": 4,
 "nbformat_minor": 2
}
