{
 "cells": [
  {
   "cell_type": "markdown",
   "metadata": {},
   "source": [
    "# Set up"
   ]
  },
  {
   "cell_type": "code",
   "execution_count": null,
   "metadata": {
    "vscode": {
     "languageId": "r"
    }
   },
   "outputs": [],
   "source": [
    "install.packages(\"harmony\")\n",
    "install.packages('DT')\n"
   ]
  },
  {
   "cell_type": "code",
   "execution_count": 22,
   "metadata": {
    "vscode": {
     "languageId": "r"
    }
   },
   "outputs": [
    {
     "name": "stderr",
     "output_type": "stream",
     "text": [
      "\n",
      "Attaching package: 'DT'\n",
      "\n",
      "\n",
      "The following object is masked from 'package:Seurat':\n",
      "\n",
      "    JS\n",
      "\n",
      "\n",
      "The following object is masked from 'package:SeuratObject':\n",
      "\n",
      "    JS\n",
      "\n",
      "\n",
      "\n",
      "Attaching package: 'data.table'\n",
      "\n",
      "\n",
      "The following objects are masked from 'package:dplyr':\n",
      "\n",
      "    between, first, last\n",
      "\n",
      "\n"
     ]
    }
   ],
   "source": [
    "# Load libraries\n",
    "library(here)\n",
    "library(Seurat)\n",
    "library(dplyr)\n",
    "library(stringr)\n",
    "library(ggplot2)\n",
    "library(glue)\n",
    "library(harmony)\n",
    "library(magrittr)\n",
    "library(DT)\n",
    "library(openxlsx)\n",
    "library(data.table)\n",
    "library(Matrix)\n",
    "\n",
    "\n",
    "source(\"../Utils/Differential_Gene_Expression_Analysis.R\")"
   ]
  },
  {
   "cell_type": "markdown",
   "metadata": {},
   "source": [
    "# Protocol"
   ]
  },
  {
   "cell_type": "markdown",
   "metadata": {},
   "source": [
    "This pipeline is based on the work of [Mariella Filbin](https://www.nature.com/articles/s41588-022-01236-3) and inspired of the code available [here](https://zenodo.org/records/7073167). Thanks a lot for the initialization of [Clara](omixanalytics@gmail.com)'s help for the DEG analyis."
   ]
  },
  {
   "cell_type": "markdown",
   "metadata": {},
   "source": [
    "# Load data"
   ]
  },
  {
   "cell_type": "markdown",
   "metadata": {},
   "source": [
    "## scRNA-seq counts"
   ]
  },
  {
   "cell_type": "code",
   "execution_count": 32,
   "metadata": {
    "vscode": {
     "languageId": "r"
    }
   },
   "outputs": [
    {
     "name": "stderr",
     "output_type": "stream",
     "text": [
      "Warning message:\n",
      "\"Data is of class data.frame. Coercing to dgCMatrix.\"\n"
     ]
    }
   ],
   "source": [
    "# Read gene expression matrix\n",
    "expression_matrix <- read.csv(\"../data/Preprocessed_data/harmony_cellmarkers_mtx.csv\", stringsAsFactors = FALSE)\n",
    "\n",
    "# Read cell barcodes\n",
    "cell_barcodes <- read.csv(\"../data/Preprocessed_data/harmony_cellmarkers_meta.csv\", header = FALSE, stringsAsFactors = FALSE)\n",
    "\n",
    "# Read gene names\n",
    "gene_names <- read.csv(\"../data/Preprocessed_data/harmony_cellmarkers_gene.csv\", header = FALSE, stringsAsFactors = FALSE)\n",
    "\n",
    "# Create Seurat object\n",
    "seu <- CreateSeuratObject(counts = expression_matrix, project = \"Time_series_rna\")\n",
    "\n",
    "# # Assign cell barcodes\n",
    "# seu@meta.data$barcode <- cell_barcodes$V1\n",
    "\n",
    "# # Assign gene names\n",
    "# rownames(seu) <- gene_names$V1\n",
    "\n"
   ]
  },
  {
   "cell_type": "code",
   "execution_count": 33,
   "metadata": {
    "vscode": {
     "languageId": "r"
    }
   },
   "outputs": [
    {
     "data": {
      "text/html": [
       "<table class=\"dataframe\">\n",
       "<caption>A data.frame: 6 x 33695</caption>\n",
       "<thead>\n",
       "\t<tr><th></th><th scope=col>X</th><th scope=col>X0</th><th scope=col>X1</th><th scope=col>X2</th><th scope=col>X3</th><th scope=col>X4</th><th scope=col>X5</th><th scope=col>X6</th><th scope=col>X7</th><th scope=col>X8</th><th scope=col>...</th><th scope=col>X33684</th><th scope=col>X33685</th><th scope=col>X33686</th><th scope=col>X33687</th><th scope=col>X33688</th><th scope=col>X33689</th><th scope=col>X33690</th><th scope=col>X33691</th><th scope=col>X33692</th><th scope=col>X33693</th></tr>\n",
       "\t<tr><th></th><th scope=col>&lt;int&gt;</th><th scope=col>&lt;chr&gt;</th><th scope=col>&lt;chr&gt;</th><th scope=col>&lt;chr&gt;</th><th scope=col>&lt;chr&gt;</th><th scope=col>&lt;chr&gt;</th><th scope=col>&lt;chr&gt;</th><th scope=col>&lt;chr&gt;</th><th scope=col>&lt;chr&gt;</th><th scope=col>&lt;chr&gt;</th><th scope=col>...</th><th scope=col>&lt;chr&gt;</th><th scope=col>&lt;chr&gt;</th><th scope=col>&lt;chr&gt;</th><th scope=col>&lt;chr&gt;</th><th scope=col>&lt;chr&gt;</th><th scope=col>&lt;chr&gt;</th><th scope=col>&lt;chr&gt;</th><th scope=col>&lt;chr&gt;</th><th scope=col>&lt;chr&gt;</th><th scope=col>&lt;chr&gt;</th></tr>\n",
       "</thead>\n",
       "<tbody>\n",
       "\t<tr><th scope=row>1</th><td>0</td><td>0.0</td><td>0.0</td><td>0.0</td><td>0.0</td><td>0.0</td><td>0.0</td><td>0.0</td><td>0.0</td><td>0.0      </td><td>...</td><td>0.0</td><td>0.0</td><td>0.0</td><td>0.0</td><td>0.0</td><td>0.0</td><td>0.0</td><td>0.0      </td><td>0.0</td><td>0.0</td></tr>\n",
       "\t<tr><th scope=row>2</th><td>1</td><td>0.0</td><td>0.0</td><td>0.0</td><td>0.0</td><td>0.0</td><td>0.0</td><td>0.0</td><td>0.0</td><td>0.0      </td><td>...</td><td>0.0</td><td>0.0</td><td>0.0</td><td>0.0</td><td>0.0</td><td>0.0</td><td>0.0</td><td>0.0      </td><td>0.0</td><td>0.0</td></tr>\n",
       "\t<tr><th scope=row>3</th><td>2</td><td>0.0</td><td>0.0</td><td>0.0</td><td>0.0</td><td>0.0</td><td>0.0</td><td>0.0</td><td>0.0</td><td>2.0616226</td><td>...</td><td>0.0</td><td>0.0</td><td>0.0</td><td>0.0</td><td>0.0</td><td>0.0</td><td>0.0</td><td>2.0616226</td><td>0.0</td><td>0.0</td></tr>\n",
       "\t<tr><th scope=row>4</th><td>3</td><td>0.0</td><td>0.0</td><td>0.0</td><td>0.0</td><td>0.0</td><td>0.0</td><td>0.0</td><td>0.0</td><td>0.0      </td><td>...</td><td>0.0</td><td>0.0</td><td>0.0</td><td>0.0</td><td>0.0</td><td>0.0</td><td>0.0</td><td>0.0      </td><td>0.0</td><td>0.0</td></tr>\n",
       "\t<tr><th scope=row>5</th><td>4</td><td>0.0</td><td>0.0</td><td>0.0</td><td>0.0</td><td>0.0</td><td>0.0</td><td>0.0</td><td>0.0</td><td>0.0      </td><td>...</td><td>0.0</td><td>0.0</td><td>0.0</td><td>0.0</td><td>0.0</td><td>0.0</td><td>0.0</td><td>0.0      </td><td>0.0</td><td>0.0</td></tr>\n",
       "\t<tr><th scope=row>6</th><td>5</td><td>0.0</td><td>0.0</td><td>0.0</td><td>0.0</td><td>0.0</td><td>0.0</td><td>0.0</td><td>0.0</td><td>0.0      </td><td>...</td><td>0.0</td><td>0.0</td><td>0.0</td><td>0.0</td><td>0.0</td><td>0.0</td><td>0.0</td><td>0.0      </td><td>0.0</td><td>0.0</td></tr>\n",
       "</tbody>\n",
       "</table>\n"
      ],
      "text/latex": [
       "A data.frame: 6 x 33695\n",
       "\\begin{tabular}{r|lllllllllllllllllllll}\n",
       "  & X & X0 & X1 & X2 & X3 & X4 & X5 & X6 & X7 & X8 & ... & X33684 & X33685 & X33686 & X33687 & X33688 & X33689 & X33690 & X33691 & X33692 & X33693\\\\\n",
       "  & <int> & <chr> & <chr> & <chr> & <chr> & <chr> & <chr> & <chr> & <chr> & <chr> & ... & <chr> & <chr> & <chr> & <chr> & <chr> & <chr> & <chr> & <chr> & <chr> & <chr>\\\\\n",
       "\\hline\n",
       "\t1 & 0 & 0.0 & 0.0 & 0.0 & 0.0 & 0.0 & 0.0 & 0.0 & 0.0 & 0.0       & ... & 0.0 & 0.0 & 0.0 & 0.0 & 0.0 & 0.0 & 0.0 & 0.0       & 0.0 & 0.0\\\\\n",
       "\t2 & 1 & 0.0 & 0.0 & 0.0 & 0.0 & 0.0 & 0.0 & 0.0 & 0.0 & 0.0       & ... & 0.0 & 0.0 & 0.0 & 0.0 & 0.0 & 0.0 & 0.0 & 0.0       & 0.0 & 0.0\\\\\n",
       "\t3 & 2 & 0.0 & 0.0 & 0.0 & 0.0 & 0.0 & 0.0 & 0.0 & 0.0 & 2.0616226 & ... & 0.0 & 0.0 & 0.0 & 0.0 & 0.0 & 0.0 & 0.0 & 2.0616226 & 0.0 & 0.0\\\\\n",
       "\t4 & 3 & 0.0 & 0.0 & 0.0 & 0.0 & 0.0 & 0.0 & 0.0 & 0.0 & 0.0       & ... & 0.0 & 0.0 & 0.0 & 0.0 & 0.0 & 0.0 & 0.0 & 0.0       & 0.0 & 0.0\\\\\n",
       "\t5 & 4 & 0.0 & 0.0 & 0.0 & 0.0 & 0.0 & 0.0 & 0.0 & 0.0 & 0.0       & ... & 0.0 & 0.0 & 0.0 & 0.0 & 0.0 & 0.0 & 0.0 & 0.0       & 0.0 & 0.0\\\\\n",
       "\t6 & 5 & 0.0 & 0.0 & 0.0 & 0.0 & 0.0 & 0.0 & 0.0 & 0.0 & 0.0       & ... & 0.0 & 0.0 & 0.0 & 0.0 & 0.0 & 0.0 & 0.0 & 0.0       & 0.0 & 0.0\\\\\n",
       "\\end{tabular}\n"
      ],
      "text/markdown": [
       "\n",
       "A data.frame: 6 x 33695\n",
       "\n",
       "| <!--/--> | X &lt;int&gt; | X0 &lt;chr&gt; | X1 &lt;chr&gt; | X2 &lt;chr&gt; | X3 &lt;chr&gt; | X4 &lt;chr&gt; | X5 &lt;chr&gt; | X6 &lt;chr&gt; | X7 &lt;chr&gt; | X8 &lt;chr&gt; | ... ... | X33684 &lt;chr&gt; | X33685 &lt;chr&gt; | X33686 &lt;chr&gt; | X33687 &lt;chr&gt; | X33688 &lt;chr&gt; | X33689 &lt;chr&gt; | X33690 &lt;chr&gt; | X33691 &lt;chr&gt; | X33692 &lt;chr&gt; | X33693 &lt;chr&gt; |\n",
       "|---|---|---|---|---|---|---|---|---|---|---|---|---|---|---|---|---|---|---|---|---|---|\n",
       "| 1 | 0 | 0.0 | 0.0 | 0.0 | 0.0 | 0.0 | 0.0 | 0.0 | 0.0 | 0.0       | ... | 0.0 | 0.0 | 0.0 | 0.0 | 0.0 | 0.0 | 0.0 | 0.0       | 0.0 | 0.0 |\n",
       "| 2 | 1 | 0.0 | 0.0 | 0.0 | 0.0 | 0.0 | 0.0 | 0.0 | 0.0 | 0.0       | ... | 0.0 | 0.0 | 0.0 | 0.0 | 0.0 | 0.0 | 0.0 | 0.0       | 0.0 | 0.0 |\n",
       "| 3 | 2 | 0.0 | 0.0 | 0.0 | 0.0 | 0.0 | 0.0 | 0.0 | 0.0 | 2.0616226 | ... | 0.0 | 0.0 | 0.0 | 0.0 | 0.0 | 0.0 | 0.0 | 2.0616226 | 0.0 | 0.0 |\n",
       "| 4 | 3 | 0.0 | 0.0 | 0.0 | 0.0 | 0.0 | 0.0 | 0.0 | 0.0 | 0.0       | ... | 0.0 | 0.0 | 0.0 | 0.0 | 0.0 | 0.0 | 0.0 | 0.0       | 0.0 | 0.0 |\n",
       "| 5 | 4 | 0.0 | 0.0 | 0.0 | 0.0 | 0.0 | 0.0 | 0.0 | 0.0 | 0.0       | ... | 0.0 | 0.0 | 0.0 | 0.0 | 0.0 | 0.0 | 0.0 | 0.0       | 0.0 | 0.0 |\n",
       "| 6 | 5 | 0.0 | 0.0 | 0.0 | 0.0 | 0.0 | 0.0 | 0.0 | 0.0 | 0.0       | ... | 0.0 | 0.0 | 0.0 | 0.0 | 0.0 | 0.0 | 0.0 | 0.0       | 0.0 | 0.0 |\n",
       "\n"
      ],
      "text/plain": [
       "  X X0  X1  X2  X3  X4  X5  X6  X7  X8        ... X33684 X33685 X33686 X33687\n",
       "1 0 0.0 0.0 0.0 0.0 0.0 0.0 0.0 0.0 0.0       ... 0.0    0.0    0.0    0.0   \n",
       "2 1 0.0 0.0 0.0 0.0 0.0 0.0 0.0 0.0 0.0       ... 0.0    0.0    0.0    0.0   \n",
       "3 2 0.0 0.0 0.0 0.0 0.0 0.0 0.0 0.0 2.0616226 ... 0.0    0.0    0.0    0.0   \n",
       "4 3 0.0 0.0 0.0 0.0 0.0 0.0 0.0 0.0 0.0       ... 0.0    0.0    0.0    0.0   \n",
       "5 4 0.0 0.0 0.0 0.0 0.0 0.0 0.0 0.0 0.0       ... 0.0    0.0    0.0    0.0   \n",
       "6 5 0.0 0.0 0.0 0.0 0.0 0.0 0.0 0.0 0.0       ... 0.0    0.0    0.0    0.0   \n",
       "  X33688 X33689 X33690 X33691    X33692 X33693\n",
       "1 0.0    0.0    0.0    0.0       0.0    0.0   \n",
       "2 0.0    0.0    0.0    0.0       0.0    0.0   \n",
       "3 0.0    0.0    0.0    2.0616226 0.0    0.0   \n",
       "4 0.0    0.0    0.0    0.0       0.0    0.0   \n",
       "5 0.0    0.0    0.0    0.0       0.0    0.0   \n",
       "6 0.0    0.0    0.0    0.0       0.0    0.0   "
      ]
     },
     "metadata": {},
     "output_type": "display_data"
    }
   ],
   "source": [
    "head(expression_matrix)"
   ]
  },
  {
   "cell_type": "code",
   "execution_count": 27,
   "metadata": {
    "vscode": {
     "languageId": "r"
    }
   },
   "outputs": [
    {
     "data": {
      "text/plain": [
       "An object of class Seurat \n",
       "7392 features across 33695 samples within 1 assay \n",
       "Active assay: RNA (7392 features, 0 variable features)\n",
       " 1 layer present: counts"
      ]
     },
     "metadata": {},
     "output_type": "display_data"
    }
   ],
   "source": [
    "seu"
   ]
  },
  {
   "cell_type": "code",
   "execution_count": null,
   "metadata": {
    "vscode": {
     "languageId": "r"
    }
   },
   "outputs": [],
   "source": [
    "message(\"Import counts for frozen samples: \", params1$counts)\n",
    "counts1 <- read.csv2(params1$counts, header = TRUE, sep = \"\\t\")\n",
    "\n",
    "message(\"Import counts fresh samples: \", params2$counts)\n",
    "counts2 <- read.csv2(params2$counts, header = TRUE, sep = \"\\t\")\n",
    "\n",
    "counts.combined <- rbind(t(counts1), t(counts2))\n",
    "dim(counts.combined)\n"
   ]
  },
  {
   "cell_type": "markdown",
   "metadata": {},
   "source": [
    "## Metadata"
   ]
  },
  {
   "cell_type": "code",
   "execution_count": null,
   "metadata": {
    "vscode": {
     "languageId": "r"
    }
   },
   "outputs": [],
   "source": [
    "message(\"Import counts: \", params1$meta)\n",
    "meta1 <- read.csv2(params1$meta, header = TRUE, sep = \"\\t\")\n",
    "\n",
    "message(\"Import counts: \", params2$meta)\n",
    "meta2 <- read.csv2(params2$meta, header = TRUE, sep = \"\\t\")\n",
    "\n",
    "meta.combined <- rbind(meta1, meta2)\n",
    "dim(meta.combined)\n"
   ]
  },
  {
   "cell_type": "code",
   "execution_count": null,
   "metadata": {
    "vscode": {
     "languageId": "r"
    }
   },
   "outputs": [],
   "source": [
    "meta3 <- read.csv(file = \"../../scRNAseq_IlonLiu/scRNA_meta.csv\")\n",
    "sample_to_clinical_status <- setNames(meta3$clinical.status, meta3$Patient.ID)\n",
    "\n",
    "# Map sample to clinical status and create new column\n",
    "meta.combined <- meta.combined %>%\n",
    "    mutate(clinical_status = sample_to_clinical_status[sample])\n",
    "    "
   ]
  },
  {
   "cell_type": "code",
   "execution_count": null,
   "metadata": {
    "vscode": {
     "languageId": "r"
    }
   },
   "outputs": [],
   "source": [
    "meta.combined"
   ]
  },
  {
   "cell_type": "code",
   "execution_count": null,
   "metadata": {
    "vscode": {
     "languageId": "r"
    }
   },
   "outputs": [],
   "source": [
    "meta.combined <- meta.combined %>%\n",
    "  mutate(annotation = ifelse(grepl(\"^OPC-like\", annotation), \"OPC-like\", annotation))\n",
    "  \n",
    "meta.combined"
   ]
  },
  {
   "cell_type": "markdown",
   "metadata": {},
   "source": [
    "## Data description"
   ]
  },
  {
   "cell_type": "code",
   "execution_count": null,
   "metadata": {
    "vscode": {
     "languageId": "r"
    }
   },
   "outputs": [],
   "source": [
    "table(meta.combined$location)\n",
    "table(meta.combined$sample, meta.combined$location)\n",
    "table(meta.combined)\n"
   ]
  },
  {
   "cell_type": "markdown",
   "metadata": {},
   "source": [
    "## Import Seurat object"
   ]
  },
  {
   "cell_type": "code",
   "execution_count": null,
   "metadata": {
    "vscode": {
     "languageId": "r"
    }
   },
   "outputs": [],
   "source": [
    "dim(counts.combined)"
   ]
  },
  {
   "cell_type": "code",
   "execution_count": null,
   "metadata": {
    "vscode": {
     "languageId": "r"
    }
   },
   "outputs": [],
   "source": [
    "head(meta.combined)"
   ]
  },
  {
   "cell_type": "code",
   "execution_count": null,
   "metadata": {
    "vscode": {
     "languageId": "r"
    }
   },
   "outputs": [],
   "source": [
    "seu <- CreateSeuratObject(\n",
    "  counts       = t(counts.combined),\n",
    "  assay        = \"RNA\",\n",
    "  meta.data    = meta.combined,\n",
    "  project      = params$out_name,\n",
    "  min.cells    = 0,\n",
    "  min.features = 0\n",
    "  #min.genes   = 0,\n",
    "  #names.field = 1, \n",
    "  #names.delim = 1,\n",
    ")\n"
   ]
  },
  {
   "cell_type": "code",
   "execution_count": null,
   "metadata": {
    "vscode": {
     "languageId": "r"
    }
   },
   "outputs": [],
   "source": [
    "seu"
   ]
  },
  {
   "cell_type": "markdown",
   "metadata": {},
   "source": [
    "# Quality control"
   ]
  },
  {
   "cell_type": "code",
   "execution_count": null,
   "metadata": {
    "vscode": {
     "languageId": "r"
    }
   },
   "outputs": [],
   "source": [
    "DefaultAssay(seu) <- \"RNA\"\n",
    "\n",
    "# Compute, for each cell, the proportion of reads in mitochondrial genes, and add to the metadata\n",
    "pattern <- switch(params$species,\n",
    "                 \"h_sapiens\" = \"^MT-\",\n",
    "                 \"m_musculus\" = \"^mt-\"\n",
    "                 )\n",
    "seu[[\"percent.mito\"]] <- PercentageFeatureSet(object = seu, pattern = pattern)"
   ]
  },
  {
   "cell_type": "code",
   "execution_count": null,
   "metadata": {
    "vscode": {
     "languageId": "r"
    }
   },
   "outputs": [],
   "source": [
    "# Compute, for each cell, the proportion of reads in ribosomal genes, and add to the metadata\n",
    "pattern = switch(params$species,\n",
    "                 \"h_sapiens\" = \"^RPS|^RPL|^MRPS|^MRPL\", # \"^RP[SL]|^M?RP[SL]\"\n",
    "                 \"m_musculus\" = \"^Rps|^Rpl|^Mrps|^Mrpl\" # \"^Rp[sl]|^M?rp[sl]\"\n",
    "                 )\n",
    "seu[[\"percent.ribo\"]] = PercentageFeatureSet(object = seu, pattern = pattern)"
   ]
  },
  {
   "cell_type": "code",
   "execution_count": null,
   "metadata": {
    "vscode": {
     "languageId": "r"
    }
   },
   "outputs": [],
   "source": [
    "# Add number of genes per UMI for each cell to metadata object\n",
    "seu[[\"log10nGene\"]] = log10(seu@meta.data$nFeature_RNA)\n",
    "\n",
    "# Add number of genes per UMI for each cell to metadata object\n",
    "seu[[\"log10nUMI\"]] = log10(seu@meta.data$nCount_RNA)\n",
    "\n",
    "# Add number of genes per UMI for each cell to metadata object\n",
    "seu[[\"log10GenesPerUMI\"]] = seu@meta.data$log10nGene/seu@meta.data$log10nUMI"
   ]
  },
  {
   "cell_type": "markdown",
   "metadata": {},
   "source": [
    "# Normalization"
   ]
  },
  {
   "cell_type": "markdown",
   "metadata": {},
   "source": [
    "## Log normalization & scaling"
   ]
  },
  {
   "cell_type": "code",
   "execution_count": null,
   "metadata": {
    "vscode": {
     "languageId": "r"
    }
   },
   "outputs": [],
   "source": [
    "# Normalize data\n",
    "seu <- NormalizeData(\n",
    "    object               = seu,\n",
    "    normalization.method = \"LogNormalize\",\n",
    "    scale.factor         = 1E4\n",
    ")\n",
    "    \n",
    "# Detection of variable genes across the single cells\n",
    "seu <- FindVariableFeatures(\n",
    "    object           = seu,\n",
    "    selection.method = \"vst\",\n",
    "    nfeatures        = 2000\n",
    ")\n",
    "\n",
    "# Scaling the data and removing unwanted sources of variation\n",
    "all.genes <- rownames(seu)\n",
    "seu <- ScaleData(\n",
    "  object    = seu,\n",
    "  features  = all.genes,\n",
    "  do.scale  = FALSE,\n",
    "  do.center = TRUE\n",
    "  #vars.to.regress = c(\"nUMI\")\n",
    ")\n"
   ]
  },
  {
   "cell_type": "markdown",
   "metadata": {},
   "source": [
    "# Dimension reduction"
   ]
  },
  {
   "cell_type": "code",
   "execution_count": null,
   "metadata": {
    "vscode": {
     "languageId": "r"
    }
   },
   "outputs": [],
   "source": [
    "DefaultAssay(seu) <- \"RNA\"\n",
    "# PCA\n",
    "nPCs <- 50\n",
    "seu <- RunPCA(\n",
    "  object   = seu, \n",
    "  features = VariableFeatures(object = seu), \n",
    "  npcs     = nPCs\n",
    ")\n",
    "print(seu[[\"pca\"]], nDims = 1:5, nFeatures = 1:5)"
   ]
  },
  {
   "cell_type": "code",
   "execution_count": null,
   "metadata": {
    "vscode": {
     "languageId": "r"
    }
   },
   "outputs": [],
   "source": [
    "VizDimLoadings(seu, dims = 1:2, reduction = \"pca\")"
   ]
  },
  {
   "cell_type": "code",
   "execution_count": null,
   "metadata": {
    "vscode": {
     "languageId": "r"
    }
   },
   "outputs": [],
   "source": [
    "DimHeatmap(seu, dims = 1, cells = 500, balanced = TRUE)"
   ]
  },
  {
   "cell_type": "code",
   "execution_count": null,
   "metadata": {
    "vscode": {
     "languageId": "r"
    }
   },
   "outputs": [],
   "source": [
    "DimHeatmap(seu, dims = 1:15, cells = 500, balanced = TRUE)"
   ]
  },
  {
   "cell_type": "code",
   "execution_count": null,
   "metadata": {
    "vscode": {
     "languageId": "r"
    }
   },
   "outputs": [],
   "source": [
    "ElbowPlot(object = seu, ndims = nPCs)\n",
    "pcs <- elbow_pcs(seu, ndims = 50, graph = \"pca\")"
   ]
  },
  {
   "cell_type": "markdown",
   "metadata": {},
   "source": [
    "# Harmony data integration "
   ]
  },
  {
   "cell_type": "code",
   "execution_count": null,
   "metadata": {
    "vscode": {
     "languageId": "r"
    }
   },
   "outputs": [],
   "source": [
    "# Run Harmony\n",
    "seu <- RunHarmony(\n",
    "  seu,\n",
    "  \"sample\",\n",
    "  theta            = 2, \n",
    "  max.iter.harmony = 50,\n",
    "  plot_convergence = TRUE\n",
    ")\n",
    "\n",
    "# Simple dim and vlnplot to examine integration \n",
    "DimPlot(object = seu, reduction = \"harmony\", pt.size = .1, group.by = \"sample\")"
   ]
  },
  {
   "cell_type": "code",
   "execution_count": null,
   "metadata": {
    "vscode": {
     "languageId": "r"
    }
   },
   "outputs": [],
   "source": [
    "DimHeatmap(seu, dims = 1, cells = 500, balanced = TRUE, reduction = \"harmony\")\n"
   ]
  },
  {
   "cell_type": "code",
   "execution_count": null,
   "metadata": {
    "vscode": {
     "languageId": "r"
    }
   },
   "outputs": [],
   "source": [
    "DimHeatmap(seu, dims = 1:15, cells = 500, balanced = TRUE, reduction = \"harmony\")\n"
   ]
  },
  {
   "cell_type": "markdown",
   "metadata": {},
   "source": [
    "# UMAP and Clustering"
   ]
  },
  {
   "cell_type": "code",
   "execution_count": null,
   "metadata": {
    "vscode": {
     "languageId": "r"
    }
   },
   "outputs": [],
   "source": [
    "pcs <- elbow_pcs(seu, ndims = 50, graph = \"harmony\")\n"
   ]
  },
  {
   "cell_type": "code",
   "execution_count": null,
   "metadata": {
    "vscode": {
     "languageId": "r"
    }
   },
   "outputs": [],
   "source": [
    "resolution <- 0.6\n",
    "reduction_type <-  \"harmony\"\n",
    "dims <-  20\n",
    "system.time({\n",
    "seu %<>% RunUMAP(reduction = reduction_type, dims = 1:dims)\n",
    "seu %<>% FindNeighbors(\n",
    "  reduction    = reduction_type,\n",
    "  dims         = 1:dims,\n",
    "  force.recalc = TRUE\n",
    ")    \n",
    "seu %<>% FindClusters(resolution = resolution)\n",
    "})\n",
    "table(Idents(seu))"
   ]
  },
  {
   "cell_type": "markdown",
   "metadata": {},
   "source": [
    "# UMAP visualization"
   ]
  },
  {
   "cell_type": "code",
   "execution_count": null,
   "metadata": {
    "vscode": {
     "languageId": "r"
    }
   },
   "outputs": [],
   "source": [
    "DimPlot(\n",
    "  object     = seu, \n",
    "  group.by   = c(\"sample\", \"location\", \"annotation\"), \n",
    "  label      = TRUE, \n",
    "  pt.size    = 3, \n",
    "  label.size = 0\n",
    ") & NoAxes()"
   ]
  },
  {
   "cell_type": "code",
   "execution_count": null,
   "metadata": {
    "vscode": {
     "languageId": "r"
    }
   },
   "outputs": [],
   "source": [
    "DimPlot(seu, group.by = c(\"seurat_clusters\", \"RNA_snn_res.0.6\", \"annotation\"), ncol = 3, label = TRUE, repel = TRUE)\n"
   ]
  },
  {
   "cell_type": "code",
   "execution_count": null,
   "metadata": {
    "vscode": {
     "languageId": "r"
    }
   },
   "outputs": [],
   "source": [
    "DimPlot(seu, group.by = \"seurat_clusters\", split.by = \"location\", label = TRUE, repel = TRUE)\n"
   ]
  },
  {
   "cell_type": "code",
   "execution_count": null,
   "metadata": {
    "vscode": {
     "languageId": "r"
    }
   },
   "outputs": [],
   "source": [
    "DimPlot(seu, group.by = \"seurat_clusters\", split.by = \"annotation\", label = TRUE, repel = TRUE)\n"
   ]
  },
  {
   "cell_type": "code",
   "execution_count": null,
   "metadata": {
    "vscode": {
     "languageId": "r"
    }
   },
   "outputs": [],
   "source": [
    "DimPlot(seu, group.by = \"annotation\", split.by = \"location\", label = TRUE, repel = TRUE)\n"
   ]
  },
  {
   "cell_type": "markdown",
   "metadata": {},
   "source": [
    "# Cluster biomarkers"
   ]
  },
  {
   "cell_type": "markdown",
   "metadata": {},
   "source": [
    "## SC analysis"
   ]
  },
  {
   "cell_type": "markdown",
   "metadata": {},
   "source": [
    "### Between clusters"
   ]
  },
  {
   "cell_type": "code",
   "execution_count": null,
   "metadata": {
    "vscode": {
     "languageId": "r"
    }
   },
   "outputs": [],
   "source": [
    "seu"
   ]
  },
  {
   "cell_type": "code",
   "execution_count": null,
   "metadata": {
    "vscode": {
     "languageId": "r"
    }
   },
   "outputs": [],
   "source": [
    "cl_marker.sc.de <- FindAllMarkers(\n",
    "  seu,\n",
    "  only.pos        = TRUE, \n",
    "  logfc.threshold = 0.7,\n",
    "  min.pct         = 0.5,\n",
    "  test.use = \"MAST\"\n",
    ")\n",
    "\n",
    "cl_marker.sc.de <- cl_marker.sc.de[cl_marker.sc.de$p_val_adj <= 0.05, ]\n"
   ]
  },
  {
   "cell_type": "code",
   "execution_count": null,
   "metadata": {
    "vscode": {
     "languageId": "r"
    }
   },
   "outputs": [],
   "source": [
    "num_marker_genes <- 25\n",
    "cl_marker.sc.de %>% group_by(cluster) %>% top_n(num_marker_genes, avg_log2FC) -> top_marker_genes\n",
    "top_marker_genes <- data.frame(top_marker_genes)\n",
    "datatable(top_marker_genes)\n"
   ]
  },
  {
   "cell_type": "code",
   "execution_count": null,
   "metadata": {
    "vscode": {
     "languageId": "r"
    }
   },
   "outputs": [],
   "source": [
    "head(top_marker_genes)"
   ]
  },
  {
   "cell_type": "markdown",
   "metadata": {},
   "source": [
    "### Between cell types"
   ]
  },
  {
   "cell_type": "code",
   "execution_count": null,
   "metadata": {
    "vscode": {
     "languageId": "r"
    }
   },
   "outputs": [],
   "source": [
    "Idents(seu) <- seu@meta.data$annotation\n",
    "cell_mark.sc.de <- FindAllMarkers(\n",
    "  seu,\n",
    "  only.pos        = TRUE, \n",
    "  logfc.threshold = 0.7,\n",
    "  min.pct         = 0.5,\n",
    "  test.use = \"MAST\"\n",
    ")\n"
   ]
  },
  {
   "cell_type": "code",
   "execution_count": null,
   "metadata": {
    "vscode": {
     "languageId": "r"
    }
   },
   "outputs": [],
   "source": [
    "num_marker_genes <- 25\n",
    "cell_mark.sc.de %>% group_by(cluster) %>% top_n(num_marker_genes, avg_log2FC) -> top_marker_genes\n",
    "top_marker_genes <- data.frame(top_marker_genes)\n",
    "datatable(top_marker_genes)\n",
    "top_marker_genes"
   ]
  },
  {
   "cell_type": "markdown",
   "metadata": {},
   "source": [
    "## Pseudobulking"
   ]
  },
  {
   "cell_type": "markdown",
   "metadata": {},
   "source": [
    "### DE Location"
   ]
  },
  {
   "cell_type": "code",
   "execution_count": null,
   "metadata": {
    "vscode": {
     "languageId": "r"
    }
   },
   "outputs": [],
   "source": [
    "# pseudobulk the counts based on location-sample-celltype\n",
    "pseudo_seu <- AggregateExpression(seu, assays = \"RNA\", return.seurat = T, group.by = c(\"sample\", \"annotation\"))\n",
    "\n",
    "# each 'cell' is a sample-celltype pseudobulk profile\n",
    "tail(Cells(pseudo_seu))\n",
    "\n",
    "Idents(pseudo_seu) <- seu@meta.data$annotation\n",
    "\n",
    "bulk.de <- FindAllMarkers(  \n",
    "object = pseudo_seu,\n",
    "only.pos = TRUE, \n",
    "logfc.threshold = 0.7,\n",
    "min.pct = 0.5,\n",
    "test.use = \"MAST\")"
   ]
  },
  {
   "cell_type": "code",
   "execution_count": null,
   "metadata": {
    "vscode": {
     "languageId": "r"
    }
   },
   "outputs": [],
   "source": [
    "num_marker_genes <- 25\n",
    "bulk.de %>% group_by(cluster) %>% top_n(num_marker_genes, avg_log2FC) -> top_marker_genes\n",
    "top_marker_genes <- data.frame(top_marker_genes)\n",
    "datatable(top_marker_genes)\n",
    "top_marker_genes\n"
   ]
  },
  {
   "cell_type": "code",
   "execution_count": null,
   "metadata": {
    "vscode": {
     "languageId": "r"
    }
   },
   "outputs": [],
   "source": [
    "head(top_marker_genes)"
   ]
  },
  {
   "cell_type": "code",
   "execution_count": null,
   "metadata": {
    "vscode": {
     "languageId": "r"
    }
   },
   "outputs": [],
   "source": [
    "# PseudoBulking \n",
    "bulk.de.sg <- bulk.de[bulk.de$p_val_adj <= 0.05, ]\n",
    "\n",
    "# scRNA\n",
    "cell_mark.sc.de.sg <- cell_mark.sc.de[cell_mark.sc.de$p_val_adj <= 0.05, ]\n",
    "\n",
    "# compare the DE P-values between the single-cell level and the pseudobulk level results\n",
    "names(bulk.de.sg) <- paste0(names(bulk.de.sg), \".bulk\")\n",
    "bulk.de.sg$gene <- rownames(bulk.de.sg)\n",
    "\n",
    "names(cell_mark.sc.de.sg) <- paste0(names(cell_mark.sc.de.sg), \".sc\")\n",
    "cell_mark.sc.de.sg$gene <- rownames(cell_mark.sc.de.sg)\n",
    "\n",
    "merge_dat <- merge(cell_mark.sc.de.sg, bulk.de.sg, by = \"gene\")\n",
    "merge_dat <- merge_dat[order(merge_dat$p_val.bulk), ]\n",
    "\n",
    "# Number of genes that are marginally significant in both; marginally significant only in bulk; and marginally significant only in single-cell\n",
    "common <- merge_dat$gene[which(merge_dat$p_val.bulk <= 0.05 & \n",
    "                                merge_dat$p_val.sc <= 0.05)]\n",
    "                                \n",
    "print(paste0('# scRNA DEG: ', length(unique(cell_mark.sc.de.sg$gene))))\n",
    "print(paste0('# Pseudo-bulking DEG: ', length(unique(bulk.de.sg$gene))))\n",
    "print(paste0('# Common DEG: ', length(common)))\n"
   ]
  },
  {
   "cell_type": "markdown",
   "metadata": {},
   "source": [
    "# Export data"
   ]
  },
  {
   "cell_type": "markdown",
   "metadata": {},
   "source": [
    "## Seurat object"
   ]
  },
  {
   "cell_type": "code",
   "execution_count": null,
   "metadata": {
    "vscode": {
     "languageId": "r"
    }
   },
   "outputs": [],
   "source": [
    "saveRDS(seu, file = here(\"output\", glue(\"seu_\", params$out_name, \".rds\")))\n",
    "saveRDS(pseudo_seu, file = here(\"output\", glue(\"pseudo_seu_\", params$out_name, \".rds\")))\n"
   ]
  },
  {
   "cell_type": "code",
   "execution_count": null,
   "metadata": {
    "vscode": {
     "languageId": "r"
    }
   },
   "outputs": [],
   "source": [
    "# Cluster biomarkers\n",
    "write.table(cl_marker.sc.de, file = here(\"output\", glue(\"cl_biomarkers_\", params$out_name, \".csv\")), sep = \",\", dec = \".\", col.names = TRUE, row.names = FALSE)\n",
    "write.xlsx(cl_marker.sc.de, file = here(\"output\", glue(\"cl_biomarkers_\", params$out_name, \".xlsx\")))\n",
    "\n",
    "# Cell biomarkers\n",
    "write.table(cell_mark.sc.de.sg, file = here(\"output\", glue(\"cell_biomarkers_\", params$out_name, \".csv\")), sep = \",\", dec = \".\", col.names = TRUE, row.names = FALSE)\n",
    "write.xlsx(cell_mark.sc.de.sg, file = here(\"output\", glue(\"cell_biomarkers_\", params$out_name, \".xlsx\")))\n",
    "\n",
    "# Pseudobulking biomarkers\n",
    "write.table(bulk.de.sg, file = here(\"output\", glue(\"psebulk_\", params$out_name, \".csv\")), sep = \",\", dec = \".\", col.names = TRUE, row.names = FALSE)\n",
    "write.xlsx(bulk.de.sg, file = here(\"output\", glue(\"psebulk_\", params$out_name, \".xlsx\")))\n"
   ]
  },
  {
   "cell_type": "code",
   "execution_count": null,
   "metadata": {
    "vscode": {
     "languageId": "r"
    }
   },
   "outputs": [],
   "source": []
  }
 ],
 "metadata": {
  "kernelspec": {
   "display_name": "R",
   "language": "R",
   "name": "ir"
  },
  "language_info": {
   "codemirror_mode": "r",
   "file_extension": ".r",
   "mimetype": "text/x-r-source",
   "name": "R",
   "pygments_lexer": "r",
   "version": "4.4.0"
  }
 },
 "nbformat": 4,
 "nbformat_minor": 2
}
