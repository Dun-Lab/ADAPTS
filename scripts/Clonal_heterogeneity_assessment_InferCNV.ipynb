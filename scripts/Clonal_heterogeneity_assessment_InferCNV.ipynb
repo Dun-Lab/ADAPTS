{
 "cells": [
  {
   "cell_type": "code",
   "execution_count": 1,
   "metadata": {
    "vscode": {
     "languageId": "r"
    }
   },
   "outputs": [
    {
     "name": "stderr",
     "output_type": "stream",
     "text": [
      "'getOption(\"repos\")' replaces Bioconductor standard repositories, see\n",
      "'help(\"repositories\", package = \"BiocManager\")' for details.\n",
      "Replacement repositories:\n",
      "    CRAN: https://cran.r-project.org\n",
      "\n",
      "Bioconductor version 3.16 (BiocManager 1.30.23), R 4.2.3 (2023-03-15)\n",
      "\n",
      "Installing package(s) 'infercnv'\n",
      "\n",
      "also installing the dependencies ‘TH.data’, ‘sandwich’, ‘RcppParallel’, ‘libcoin’, ‘modeltools’, ‘mvtnorm’, ‘multcomp’, ‘findpython’, ‘phyclust’, ‘parallelDist’, ‘HiddenMarkov’, ‘coin’, ‘rjags’, ‘coda’, ‘argparse’\n",
      "\n",
      "\n",
      "Warning message in install.packages(...):\n",
      "“installation of package ‘rjags’ had non-zero exit status”\n",
      "Warning message in install.packages(...):\n",
      "“installation of package ‘infercnv’ had non-zero exit status”\n",
      "Updating HTML index of packages in '.Library'\n",
      "\n",
      "Making 'packages.html' ...\n",
      " done\n",
      "\n",
      "Old packages: 'KernSmooth', 'Seurat', 'SeuratObject', 'broom', 'dqrng',\n",
      "  'ggsci', 'minqa'\n",
      "\n"
     ]
    }
   ],
   "source": [
    "if (!requireNamespace(\"BiocManager\", quietly = TRUE))\n",
    "    install.packages(\"BiocManager\")\n",
    "BiocManager::install(\"infercnv\")"
   ]
  },
  {
   "cell_type": "code",
   "execution_count": 2,
   "metadata": {
    "vscode": {
     "languageId": "r"
    }
   },
   "outputs": [
    {
     "name": "stderr",
     "output_type": "stream",
     "text": [
      "Updating HTML index of packages in '.Library'\n",
      "\n",
      "Making 'packages.html' ...\n",
      " done\n",
      "\n",
      "Updating HTML index of packages in '.Library'\n",
      "\n",
      "Making 'packages.html' ...\n",
      " done\n",
      "\n",
      "Loading required package: usethis\n",
      "\n",
      "Downloading GitHub repo bmbroom/tsvio@HEAD\n",
      "\n"
     ]
    },
    {
     "name": "stdout",
     "output_type": "stream",
     "text": [
      "\u001b[36m──\u001b[39m \u001b[36mR CMD build\u001b[39m \u001b[36m─────────────────────────────────────────────────────────────────\u001b[39m\n",
      "* checking for file ‘/private/var/folders/k5/0z5qv9n14bx2r_5_dpw6nk1c0000gn/T/RtmpOvcJJU/remotes121e220428441/bmbroom-tsvio-3f1ef61/DESCRIPTION’ ... OK\n",
      "* preparing ‘tsvio’:\n",
      "* checking DESCRIPTION meta-information ... OK\n",
      "* cleaning src\n",
      "* checking for LF line-endings in source and make files and shell scripts\n",
      "* checking for empty or unneeded directories\n",
      "* building ‘tsvio_0.0.13.9006.tar.gz’\n",
      "\n"
     ]
    },
    {
     "name": "stderr",
     "output_type": "stream",
     "text": [
      "Downloading GitHub repo bmbroom/NGCHMR@stable\n",
      "\n"
     ]
    },
    {
     "name": "stdout",
     "output_type": "stream",
     "text": [
      "\n",
      "\u001b[36m──\u001b[39m \u001b[36mR CMD build\u001b[39m \u001b[36m─────────────────────────────────────────────────────────────────\u001b[39m\n",
      "* checking for file ‘/private/var/folders/k5/0z5qv9n14bx2r_5_dpw6nk1c0000gn/T/RtmpOvcJJU/remotes121e2d4c4616/bmbroom-NGCHMR-6e030a5/DESCRIPTION’ ... OK\n",
      "* preparing ‘NGCHM’:\n",
      "* checking DESCRIPTION meta-information ... OK\n",
      "* checking for LF line-endings in source and make files and shell scripts\n",
      "* checking for empty or unneeded directories\n",
      "* looking to see if a ‘data/datalist’ file should be added\n",
      "* building ‘NGCHM_0.11.14.tar.gz’\n",
      "\n"
     ]
    },
    {
     "name": "stderr",
     "output_type": "stream",
     "text": [
      "Downloading GitHub repo broadinstitute/inferCNV_NGCHM@HEAD\n",
      "\n"
     ]
    },
    {
     "name": "stdout",
     "output_type": "stream",
     "text": [
      "infercnv (NA           -> 65aaf9fcd...) [GitHub]\n",
      "NGCHM    (6e030a5d1... -> 6a763647d...) [GitHub]\n",
      "logger   (NA           -> 0.3.0       ) [CRAN]\n"
     ]
    },
    {
     "name": "stderr",
     "output_type": "stream",
     "text": [
      "Downloading GitHub repo broadinstitute/infercnv@HEAD\n",
      "\n"
     ]
    },
    {
     "name": "stdout",
     "output_type": "stream",
     "text": [
      "dqrng        (0.3.2 -> 0.4.0) [CRAN]\n",
      "SeuratObject (5.0.1 -> 5.0.2) [CRAN]\n",
      "Seurat       (5.0.3 -> 5.1.0) [CRAN]\n",
      "rjags        (NA    -> 4-15 ) [CRAN]\n"
     ]
    },
    {
     "name": "stderr",
     "output_type": "stream",
     "text": [
      "Installing 4 packages: dqrng, SeuratObject, Seurat, rjags\n",
      "\n",
      "Warning message in i.p(...):\n",
      "“installation of package ‘rjags’ had non-zero exit status”\n",
      "Updating HTML index of packages in '.Library'\n",
      "\n",
      "Making 'packages.html' ...\n",
      " done\n",
      "\n"
     ]
    },
    {
     "name": "stdout",
     "output_type": "stream",
     "text": [
      "\u001b[36m──\u001b[39m \u001b[36mR CMD build\u001b[39m \u001b[36m─────────────────────────────────────────────────────────────────\u001b[39m\n",
      "* checking for file ‘/private/var/folders/k5/0z5qv9n14bx2r_5_dpw6nk1c0000gn/T/RtmpOvcJJU/remotes121e27de2dcc9/broadinstitute-infercnv-65aaf9f/DESCRIPTION’ ... OK\n",
      "* preparing ‘infercnv’:\n",
      "* checking DESCRIPTION meta-information ... OK\n",
      "* checking for LF line-endings in source and make files and shell scripts\n",
      "* checking for empty or unneeded directories\n",
      "Removed empty directory ‘infercnv/WDL’\n",
      "* building ‘infercnv_1.21.0.tar.gz’\n",
      "\n"
     ]
    },
    {
     "name": "stderr",
     "output_type": "stream",
     "text": [
      "Warning message in i.p(...):\n",
      "“installation of package ‘/var/folders/k5/0z5qv9n14bx2r_5_dpw6nk1c0000gn/T//RtmpOvcJJU/file121e2192c7013/infercnv_1.21.0.tar.gz’ had non-zero exit status”\n",
      "Installing 1 packages: logger\n",
      "\n",
      "Updating HTML index of packages in '.Library'\n",
      "\n",
      "Making 'packages.html' ...\n",
      " done\n",
      "\n",
      "Downloading GitHub repo broadinstitute/infercnv@HEAD\n",
      "\n",
      "Skipping infercnv, it is already being installed\n",
      "\n",
      "Downloading GitHub repo bmbroom/NGCHMR@HEAD\n",
      "\n"
     ]
    },
    {
     "name": "stdout",
     "output_type": "stream",
     "text": [
      "NGCHMSupp... (NA -> 3f2979ab0...) [GitHub]\n",
      "NGCHMDemo... (NA -> 2b5c46e9b...) [GitHub]\n"
     ]
    },
    {
     "name": "stderr",
     "output_type": "stream",
     "text": [
      "Downloading GitHub repo MD-Anderson-Bioinformatics/NGCHMSupportFiles@HEAD\n",
      "\n"
     ]
    },
    {
     "name": "stdout",
     "output_type": "stream",
     "text": [
      "\u001b[36m──\u001b[39m \u001b[36mR CMD build\u001b[39m \u001b[36m─────────────────────────────────────────────────────────────────\u001b[39m\n",
      "* checking for file ‘/private/var/folders/k5/0z5qv9n14bx2r_5_dpw6nk1c0000gn/T/RtmpOvcJJU/remotes121e225914339/MD-Anderson-Bioinformatics-NGCHMSupportFiles-3f2979a/DESCRIPTION’ ... OK\n",
      "* preparing ‘NGCHMSupportFiles’:\n",
      "* checking DESCRIPTION meta-information ... OK\n",
      "* checking for LF line-endings in source and make files and shell scripts\n",
      "* checking for empty or unneeded directories\n",
      "* building ‘NGCHMSupportFiles_2.24.3.tar.gz’\n",
      "\n"
     ]
    },
    {
     "name": "stderr",
     "output_type": "stream",
     "text": [
      "Downloading GitHub repo MD-Anderson-Bioinformatics/NGCHMDemoData@HEAD\n",
      "\n"
     ]
    },
    {
     "name": "stdout",
     "output_type": "stream",
     "text": [
      "\u001b[36m──\u001b[39m \u001b[36mR CMD build\u001b[39m \u001b[36m─────────────────────────────────────────────────────────────────\u001b[39m\n",
      "* checking for file ‘/private/var/folders/k5/0z5qv9n14bx2r_5_dpw6nk1c0000gn/T/RtmpOvcJJU/remotes121e2744627dd/MD-Anderson-Bioinformatics-NGCHMDemoData-2b5c46e/DESCRIPTION’ ... OK\n",
      "* preparing ‘NGCHMDemoData’:\n",
      "* checking DESCRIPTION meta-information ... OK\n",
      "* checking for LF line-endings in source and make files and shell scripts\n",
      "* checking for empty or unneeded directories\n",
      "* looking to see if a ‘data/datalist’ file should be added\n",
      "* building ‘NGCHMDemoData_0.0.10.tar.gz’\n",
      "\n"
     ]
    },
    {
     "name": "stderr",
     "output_type": "stream",
     "text": [
      "Skipping install of 'NGCHMSupportFiles' from a github remote, the SHA1 (3f2979ab) has not changed since last install.\n",
      "  Use `force = TRUE` to force installation\n",
      "\n",
      "Skipping install of 'NGCHMDemoData' from a github remote, the SHA1 (2b5c46e9) has not changed since last install.\n",
      "  Use `force = TRUE` to force installation\n",
      "\n"
     ]
    },
    {
     "name": "stdout",
     "output_type": "stream",
     "text": [
      "\u001b[36m──\u001b[39m \u001b[36mR CMD build\u001b[39m \u001b[36m─────────────────────────────────────────────────────────────────\u001b[39m\n",
      "* checking for file ‘/private/var/folders/k5/0z5qv9n14bx2r_5_dpw6nk1c0000gn/T/RtmpOvcJJU/remotes121e24544e6c/bmbroom-NGCHMR-6a76364/DESCRIPTION’ ... OK\n",
      "* preparing ‘NGCHM’:\n",
      "* checking DESCRIPTION meta-information ... OK\n",
      "* checking for LF line-endings in source and make files and shell scripts\n",
      "* checking for empty or unneeded directories\n",
      "* looking to see if a ‘data/datalist’ file should be added\n",
      "* building ‘NGCHM_0.13.0.tar.gz’\n",
      "\n",
      "\u001b[36m──\u001b[39m \u001b[36mR CMD build\u001b[39m \u001b[36m─────────────────────────────────────────────────────────────────\u001b[39m\n",
      "* checking for file ‘/private/var/folders/k5/0z5qv9n14bx2r_5_dpw6nk1c0000gn/T/RtmpOvcJJU/remotes121e24fac655/broadinstitute-infercnvNGCHM-944f265/DESCRIPTION’ ... OK\n",
      "* preparing ‘infercnvNGCHM’:\n",
      "* checking DESCRIPTION meta-information ... OK\n",
      "* checking for LF line-endings in source and make files and shell scripts\n",
      "* checking for empty or unneeded directories\n",
      "Omitted ‘LazyData’ from DESCRIPTION\n",
      "* building ‘infercnvNGCHM_0.1.1.tar.gz’\n",
      "\n"
     ]
    },
    {
     "name": "stderr",
     "output_type": "stream",
     "text": [
      "Warning message in i.p(...):\n",
      "“installation of package ‘/var/folders/k5/0z5qv9n14bx2r_5_dpw6nk1c0000gn/T//RtmpOvcJJU/file121e22a2b7755/infercnvNGCHM_0.1.1.tar.gz’ had non-zero exit status”\n"
     ]
    }
   ],
   "source": [
    "install.packages(\"tibble\")\n",
    "\n",
    "install.packages(\"devtools\")\n",
    "library(devtools)\n",
    "devtools::install_github(\"bmbroom/tsvio\")\n",
    "devtools::install_github(\"bmbroom/NGCHMR\", ref=\"stable\")\n",
    "devtools::install_github(\"broadinstitute/inferCNV_NGCHM\")"
   ]
  },
  {
   "cell_type": "code",
   "execution_count": 3,
   "metadata": {
    "vscode": {
     "languageId": "r"
    }
   },
   "outputs": [
    {
     "ename": "ERROR",
     "evalue": "Error in parse(text = x, srcfile = src): <text>:1:7: unexpected symbol\n1: !wget http\n          ^\n",
     "output_type": "error",
     "traceback": [
      "Error in parse(text = x, srcfile = src): <text>:1:7: unexpected symbol\n1: !wget http\n          ^\nTraceback:\n"
     ]
    }
   ],
   "source": [
    "infercnv_obj = CreateInfercnvObject(\n",
    "  raw_counts_matrix=\"../inst/extdata/oligodendroglioma_expression_downsampled.counts.matrix.gz\",\n",
    "  annotations_file=\"../inst/extdata/oligodendroglioma_annotations_downsampled.txt\",\n",
    "  delim=\"\\t\",\n",
    "  gene_order_file=\"../inst/extdata/gencode_downsampled.EXAMPLE_ONLY_DONT_REUSE.txt\",\n",
    "  ref_group_names=c(\"Microglia/Macrophage\",\"Oligodendrocytes (non-malignant)\"))"
   ]
  },
  {
   "cell_type": "code",
   "execution_count": 4,
   "metadata": {
    "vscode": {
     "languageId": "r"
    }
   },
   "outputs": [
    {
     "name": "stderr",
     "output_type": "stream",
     "text": [
      "'getOption(\"repos\")' replaces Bioconductor standard repositories, see\n",
      "'help(\"repositories\", package = \"BiocManager\")' for details.\n",
      "Replacement repositories:\n",
      "    CRAN: https://cran.r-project.org\n",
      "\n",
      "Bioconductor version 3.16 (BiocManager 1.30.23), R 4.2.3 (2023-03-15)\n",
      "\n",
      "Installing package(s) 'minfi'\n",
      "\n",
      "also installing the dependencies ‘Rhtslib’, ‘dbplyr’, ‘filelock’, ‘Rsamtools’, ‘GenomicAlignments’, ‘restfulr’, ‘BiocFileCache’, ‘BiocIO’, ‘rtracklayer’, ‘biomaRt’, ‘doRNG’, ‘GenomicFeatures’, ‘multtest’, ‘scrime’, ‘base64’, ‘sparseMatrixStats’, ‘bumphunter’, ‘beanplot’, ‘nor1mix’, ‘siggenes’, ‘preprocessCore’, ‘illuminaio’, ‘DelayedMatrixStats’, ‘mclust’, ‘reshape’, ‘quadprog’, ‘GEOquery’\n",
      "\n",
      "\n",
      "Updating HTML index of packages in '.Library'\n",
      "\n",
      "Making 'packages.html' ...\n",
      " done\n",
      "\n",
      "Old packages: 'KernSmooth', 'NGCHM', 'broom', 'ggsci', 'minqa', 'tsvio'\n",
      "\n",
      "'getOption(\"repos\")' replaces Bioconductor standard repositories, see\n",
      "'help(\"repositories\", package = \"BiocManager\")' for details.\n",
      "Replacement repositories:\n",
      "    CRAN: https://cran.r-project.org\n",
      "\n",
      "Bioconductor version 3.16 (BiocManager 1.30.23), R 4.2.3 (2023-03-15)\n",
      "\n",
      "Installing package(s) 'IlluminaHumanMethylation450kanno.ilmn12.hg19'\n",
      "\n",
      "Updating HTML index of packages in '.Library'\n",
      "\n",
      "Making 'packages.html' ...\n",
      " done\n",
      "\n",
      "Old packages: 'KernSmooth', 'NGCHM', 'broom', 'ggsci', 'minqa', 'tsvio'\n",
      "\n"
     ]
    }
   ],
   "source": [
    "if (!requireNamespace(\"BiocManager\", quietly = TRUE))\n",
    "    install.packages(\"BiocManager\")\n",
    "BiocManager::install(\"minfi\")\n",
    "BiocManager::install(\"IlluminaHumanMethylation450kanno.ilmn12.hg19\")\n"
   ]
  },
  {
   "cell_type": "code",
   "execution_count": 5,
   "metadata": {
    "vscode": {
     "languageId": "r"
    }
   },
   "outputs": [
    {
     "name": "stderr",
     "output_type": "stream",
     "text": [
      "Loading required package: BiocGenerics\n",
      "\n",
      "\n",
      "Attaching package: ‘BiocGenerics’\n",
      "\n",
      "\n",
      "The following objects are masked from ‘package:stats’:\n",
      "\n",
      "    IQR, mad, sd, var, xtabs\n",
      "\n",
      "\n",
      "The following objects are masked from ‘package:base’:\n",
      "\n",
      "    Filter, Find, Map, Position, Reduce, anyDuplicated, aperm, append,\n",
      "    as.data.frame, basename, cbind, colnames, dirname, do.call,\n",
      "    duplicated, eval, evalq, get, grep, grepl, intersect, is.unsorted,\n",
      "    lapply, mapply, match, mget, order, paste, pmax, pmax.int, pmin,\n",
      "    pmin.int, rank, rbind, rownames, sapply, setdiff, sort, table,\n",
      "    tapply, union, unique, unsplit, which.max, which.min\n",
      "\n",
      "\n",
      "Loading required package: GenomicRanges\n",
      "\n",
      "Loading required package: stats4\n",
      "\n",
      "Loading required package: S4Vectors\n",
      "\n",
      "\n",
      "Attaching package: ‘S4Vectors’\n",
      "\n",
      "\n",
      "The following objects are masked from ‘package:base’:\n",
      "\n",
      "    I, expand.grid, unname\n",
      "\n",
      "\n",
      "Loading required package: IRanges\n",
      "\n",
      "Loading required package: GenomeInfoDb\n",
      "\n",
      "Loading required package: SummarizedExperiment\n",
      "\n",
      "Loading required package: MatrixGenerics\n",
      "\n",
      "Loading required package: matrixStats\n",
      "\n",
      "\n",
      "Attaching package: ‘MatrixGenerics’\n",
      "\n",
      "\n",
      "The following objects are masked from ‘package:matrixStats’:\n",
      "\n",
      "    colAlls, colAnyNAs, colAnys, colAvgsPerRowSet, colCollapse,\n",
      "    colCounts, colCummaxs, colCummins, colCumprods, colCumsums,\n",
      "    colDiffs, colIQRDiffs, colIQRs, colLogSumExps, colMadDiffs,\n",
      "    colMads, colMaxs, colMeans2, colMedians, colMins, colOrderStats,\n",
      "    colProds, colQuantiles, colRanges, colRanks, colSdDiffs, colSds,\n",
      "    colSums2, colTabulates, colVarDiffs, colVars, colWeightedMads,\n",
      "    colWeightedMeans, colWeightedMedians, colWeightedSds,\n",
      "    colWeightedVars, rowAlls, rowAnyNAs, rowAnys, rowAvgsPerColSet,\n",
      "    rowCollapse, rowCounts, rowCummaxs, rowCummins, rowCumprods,\n",
      "    rowCumsums, rowDiffs, rowIQRDiffs, rowIQRs, rowLogSumExps,\n",
      "    rowMadDiffs, rowMads, rowMaxs, rowMeans2, rowMedians, rowMins,\n",
      "    rowOrderStats, rowProds, rowQuantiles, rowRanges, rowRanks,\n",
      "    rowSdDiffs, rowSds, rowSums2, rowTabulates, rowVarDiffs, rowVars,\n",
      "    rowWeightedMads, rowWeightedMeans, rowWeightedMedians,\n",
      "    rowWeightedSds, rowWeightedVars\n",
      "\n",
      "\n",
      "Loading required package: Biobase\n",
      "\n",
      "Welcome to Bioconductor\n",
      "\n",
      "    Vignettes contain introductory material; view with\n",
      "    'browseVignettes()'. To cite Bioconductor, see\n",
      "    'citation(\"Biobase\")', and for packages 'citation(\"pkgname\")'.\n",
      "\n",
      "\n",
      "\n",
      "Attaching package: ‘Biobase’\n",
      "\n",
      "\n",
      "The following object is masked from ‘package:MatrixGenerics’:\n",
      "\n",
      "    rowMedians\n",
      "\n",
      "\n",
      "The following objects are masked from ‘package:matrixStats’:\n",
      "\n",
      "    anyMissing, rowMedians\n",
      "\n",
      "\n",
      "Loading required package: Biostrings\n",
      "\n",
      "Loading required package: XVector\n",
      "\n",
      "\n",
      "Attaching package: ‘Biostrings’\n",
      "\n",
      "\n",
      "The following object is masked from ‘package:base’:\n",
      "\n",
      "    strsplit\n",
      "\n",
      "\n",
      "Loading required package: bumphunter\n",
      "\n",
      "Loading required package: foreach\n",
      "\n",
      "Loading required package: iterators\n",
      "\n",
      "Loading required package: parallel\n",
      "\n",
      "Loading required package: locfit\n",
      "\n",
      "locfit 1.5-9.9 \t 2024-03-01\n",
      "\n",
      "Setting options('download.file.method.GEOquery'='auto')\n",
      "\n",
      "Setting options('GEOquery.inmemory.gpl'=FALSE)\n",
      "\n"
     ]
    }
   ],
   "source": [
    "library(minfi)\n",
    "library(IlluminaHumanMethylation450kanno.ilmn12.hg19)\n"
   ]
  },
  {
   "cell_type": "code",
   "execution_count": null,
   "metadata": {
    "vscode": {
     "languageId": "r"
    }
   },
   "outputs": [],
   "source": []
  }
 ],
 "metadata": {
  "kernelspec": {
   "display_name": "R",
   "language": "R",
   "name": "ir"
  },
  "language_info": {
   "codemirror_mode": "r",
   "file_extension": ".r",
   "mimetype": "text/x-r-source",
   "name": "R",
   "pygments_lexer": "r",
   "version": "4.2.3"
  }
 },
 "nbformat": 4,
 "nbformat_minor": 2
}
