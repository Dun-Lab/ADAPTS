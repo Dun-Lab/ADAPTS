{
 "cells": [
  {
   "cell_type": "markdown",
   "metadata": {},
   "source": [
    "# Install packages"
   ]
  },
  {
   "cell_type": "code",
   "execution_count": null,
   "metadata": {
    "vscode": {
     "languageId": "r"
    }
   },
   "outputs": [],
   "source": [
    "# install.packages(\"devtools\")\n",
    "# install.packages(\"readr\")\n",
    "# install.packages(\"pheatmap\")\n",
    "# install.packages(\"tibble\")\n",
    "# install.packages(\"ggpubr\")\n",
    "\n",
    "# if (!requireNamespace(\"BiocManager\", quietly = TRUE))\n",
    "#     install.packages(\"BiocManager\")\n",
    "\n",
    "# BiocManager::install(\"progeny\")\n",
    "\n",
    "# ## To install the new version until it is submitted to Bioconductor use:\n",
    "# devtools::install_github(\"saezlab/progeny\")\n",
    "\n",
    "# install.packages('devtools')\n",
    "# devtools::install_github('immunogenomics/presto')\n"
   ]
  },
  {
   "cell_type": "markdown",
   "metadata": {},
   "source": [
    "# Set up environment"
   ]
  },
  {
   "cell_type": "code",
   "execution_count": null,
   "metadata": {
    "vscode": {
     "languageId": "r"
    }
   },
   "outputs": [],
   "source": [
    "library(progeny)\n",
    "library(dplyr)\n",
    "library(Seurat)\n",
    "library(ggplot2)\n",
    "library(tidyr)\n",
    "library(readr)\n",
    "library(pheatmap)\n",
    "library(tibble)\n"
   ]
  },
  {
   "cell_type": "markdown",
   "metadata": {},
   "source": [
    "# Load data"
   ]
  },
  {
   "cell_type": "code",
   "execution_count": null,
   "metadata": {
    "vscode": {
     "languageId": "r"
    }
   },
   "outputs": [],
   "source": [
    "# Load fresh and frozen samples, then merge them\n",
    "# seu_frozen <- readRDS(\"../output/seu_GSE184357_frozen.rds\")\n",
    "# seu_fresh <- readRDS(\"../output/seu_GSE184357_fresh.rds\")\n",
    "seu.combined <- readRDS(\"../output/seu_GSE184357_fresh&frozen.rds\")\n",
    "\n",
    "# seu <- seu_frozen\n",
    "# seu <- seu_fresh\n",
    "seu <- seu.combined\n",
    "Idents(seu) <- \"annotation\"\n",
    "\n",
    "seu\n"
   ]
  },
  {
   "cell_type": "markdown",
   "metadata": {},
   "source": [
    "# Pathway activity per cell population"
   ]
  },
  {
   "cell_type": "code",
   "execution_count": null,
   "metadata": {
    "vscode": {
     "languageId": "r"
    }
   },
   "outputs": [],
   "source": [
    "unique(seu$clinical_status)"
   ]
  },
  {
   "cell_type": "code",
   "execution_count": null,
   "metadata": {
    "vscode": {
     "languageId": "r"
    }
   },
   "outputs": [],
   "source": [
    "unique(seu$location)"
   ]
  },
  {
   "cell_type": "code",
   "execution_count": null,
   "metadata": {
    "vscode": {
     "languageId": "r"
    }
   },
   "outputs": [],
   "source": [
    "unique(seu$annotation)"
   ]
  },
  {
   "cell_type": "code",
   "execution_count": null,
   "metadata": {
    "vscode": {
     "languageId": "r"
    }
   },
   "outputs": [],
   "source": [
    "seu_pons <- subset(seu, subset= location == 'pontine')\n",
    "seu_pons\n",
    "\n",
    "seu_thalamic <- subset(seu, subset= location == 'thalamic')\n",
    "seu_thalamic\n",
    "\n",
    "seu_primary <- subset(seu, subset= clinical_status == 'primary')\n",
    "seu_primary\n",
    "\n",
    "seu_recurrence <- subset(seu, subset= clinical_status == 'recurrence')\n",
    "seu_recurrence\n"
   ]
  },
  {
   "cell_type": "markdown",
   "metadata": {},
   "source": [
    "## Umap"
   ]
  },
  {
   "cell_type": "code",
   "execution_count": null,
   "metadata": {
    "vscode": {
     "languageId": "r"
    }
   },
   "outputs": [],
   "source": [
    "\n",
    "print(\"scRNA for all locations:\")\n",
    "DimPlot(seu, label = TRUE, pt.size = 0.5) + NoLegend()\n",
    "\n",
    "print(\"scRNA for pontine location only:\")\n",
    "DimPlot(seu_pons, label = TRUE, pt.size = 0.5) + NoLegend()\n",
    "print(\"scRNA for thalamic location only:\")\n",
    "DimPlot(seu_thalamic, label = TRUE, pt.size = 0.5) + NoLegend()\n",
    "\n",
    "print(\"scRNA for primary only:\")\n",
    "DimPlot(seu_primary, label = TRUE, pt.size = 0.5) + NoLegend()\n",
    "print(\"scRNA for recurrence only:\")\n",
    "DimPlot(seu_recurrence, label = TRUE, pt.size = 0.5) + NoLegend()"
   ]
  },
  {
   "cell_type": "markdown",
   "metadata": {},
   "source": [
    "## Heatmap"
   ]
  },
  {
   "cell_type": "code",
   "execution_count": null,
   "metadata": {
    "vscode": {
     "languageId": "r"
    }
   },
   "outputs": [],
   "source": [
    "pathway_analysis <- function(seu){\n",
    "    # Umap for the cell type label\n",
    "    DimPlot(seu, label = TRUE, pt.size = 0.5) \n",
    "\n",
    "    # Assign the cluster name in dataframe\n",
    "    CellsClusters <- data.frame(Cell = names(Idents(seu)), \n",
    "        CellType = as.character(Idents(seu)),\n",
    "        stringsAsFactors = FALSE)\n",
    "\n",
    "    ## Finally, we compute PROGENy pathway activity scores on the scRNA-seq data, and we then characterice the different cell populations based on these scores.\n",
    "    ## We compute the Progeny activity scores and add them to our Seurat object as a new assay called Progeny. \n",
    "    seu.progeny <- progeny(seu, scale=FALSE, organism=\"Human\", top=500, perm=1, \n",
    "        return_assay = TRUE)\n",
    "\n",
    "    ## We can now directly apply Seurat functions in our Progeny scores. \n",
    "    ## For instance, we scale the pathway activity scores. \n",
    "    seu.progeny <- Seurat::ScaleData(seu.progeny, assay = \"progeny\") \n",
    "\n",
    "    ## We transform Progeny scores into a data frame to better handling the results\n",
    "    progeny_scores_df <- \n",
    "        as.data.frame(t(GetAssayData(seu.progeny, slot = \"scale.data\", \n",
    "            assay = \"progeny\"))) %>%\n",
    "        rownames_to_column(\"Cell\") %>%\n",
    "        gather(Pathway, Activity, -Cell) \n",
    "\n",
    "    ## We match Progeny scores with the cell clusters.\n",
    "    progeny_scores_df <- inner_join(progeny_scores_df, CellsClusters)\n",
    "\n",
    "    ## We summarize the Progeny scores by cellpopulation\n",
    "    summarized_progeny_scores <- progeny_scores_df %>% \n",
    "        group_by(Pathway, CellType) %>%\n",
    "        summarise(avg = mean(Activity), std = sd(Activity))\n",
    "\n",
    "    ## We prepare the data for the plot\n",
    "    summarized_progeny_scores_df <- summarized_progeny_scores %>%\n",
    "        dplyr::select(-std) %>%   \n",
    "        spread(Pathway, avg) %>%\n",
    "        data.frame(row.names = 1, check.names = FALSE, stringsAsFactors = FALSE) \n",
    "\n",
    "    # We plot the different pathway activities for the different cell populations\n",
    "    paletteLength = 100\n",
    "    myColor = colorRampPalette(c(\"Darkblue\", \"white\",\"red\"))(paletteLength)\n",
    "\n",
    "    progenyBreaks = c(seq(min(summarized_progeny_scores_df), 0, \n",
    "                        length.out=ceiling(paletteLength/2) + 1),\n",
    "                    seq(max(summarized_progeny_scores_df)/paletteLength, \n",
    "                        max(summarized_progeny_scores_df), \n",
    "                        length.out=floor(paletteLength/2)))\n",
    "                        \n",
    "    progeny_hmap = pheatmap(t(summarized_progeny_scores_df[,-1]),fontsize=14, \n",
    "                            fontsize_row = 10, \n",
    "                            color=myColor, breaks = progenyBreaks, \n",
    "                            main = \"PROGENy (500)\", angle_col = 45,\n",
    "                            treeheight_col = 0,  border_color = NA)\n",
    "    return (progeny_scores_df)\n",
    "}\n"
   ]
  },
  {
   "cell_type": "code",
   "execution_count": null,
   "metadata": {
    "vscode": {
     "languageId": "r"
    }
   },
   "outputs": [],
   "source": [
    "print(\"pathway for all scRNA:\")\n",
    "all_pathwayscore <- pathway_analysis(seu)\n",
    "\n",
    "print(\"pathway for all pontine scRNA only:\")\n",
    "pons_pathwayscore <- pathway_analysis(seu_pons)\n",
    "pons_pathwayscore$Condition <- 'pons'\n",
    "print(\"pathway for all thalamic scRNA only:\")\n",
    "thalamic_pathwayscore <- pathway_analysis(seu_thalamic)\n",
    "thalamic_pathwayscore$Condition <- 'thalamic'\n",
    "\n",
    "print(\"pathway for all seu_primary scRNA only:\")\n",
    "primary_pathwayscore <- pathway_analysis(seu_primary)\n",
    "primary_pathwayscore$Condition <- 'primary'\n",
    "print(\"pathway for all recurrence scRNA only:\")\n",
    "recurrence_pathwayscore <- pathway_analysis(seu_recurrence)\n",
    "recurrence_pathwayscore$Condition <- 'recurrence'\n"
   ]
  },
  {
   "cell_type": "markdown",
   "metadata": {},
   "source": [
    "## Compare the signalling pathway under different conditions"
   ]
  },
  {
   "cell_type": "markdown",
   "metadata": {},
   "source": [
    "### Compare the sample distribution for each pathway"
   ]
  },
  {
   "cell_type": "code",
   "execution_count": null,
   "metadata": {
    "vscode": {
     "languageId": "r"
    }
   },
   "outputs": [],
   "source": [
    "violin_plot_per_pathway <- function(pathway_score, pathway, conditions){\n",
    "    library(ggplot2)\n",
    "    res <- 0\n",
    "    pathway_score <- pathway_score[pathway_score$Pathway == pathway, ]\n",
    "    t1 <- pathway_score$Activity[(pathway_score$Condition==conditions[1]) ]\n",
    "    t2 <- pathway_score$Activity[(pathway_score$Condition==conditions[2]) ]\n",
    "    res <- ks.test(t1, t2)\n",
    "    \n",
    "    if (res$p <= 0.05){\n",
    "      print(paste(\"p-val is: \", res$p, \"within \", pathway, \"signalling pathway\"))\n",
    "      violin_plot <- ggplot(pathway_score, aes(x = Condition, y = Activity, color = Condition) ) +\n",
    "        geom_violin() +\n",
    "        labs(title = paste(\"Pathway Activation Scores for \", pathway),\n",
    "            x = \"Condition\",\n",
    "            y = \"Activation Score\")+\n",
    "            geom_boxplot(width=0.1)+\n",
    "              theme(\n",
    "              legend.text = element_text(size = 18),\n",
    "              legend.title = element_text(size = 18),\n",
    "              plot.title = element_text(size = 20),\n",
    "              plot.subtitle = element_text(size = 20),\n",
    "              axis.text=element_text(size=25),\n",
    "              axis.title=element_text(size=25)\n",
    "        )\n",
    "\n",
    "      print(violin_plot)\n",
    "    }\n",
    "  }\n"
   ]
  },
  {
   "cell_type": "code",
   "execution_count": null,
   "metadata": {
    "vscode": {
     "languageId": "r"
    }
   },
   "outputs": [],
   "source": [
    "location_pathwayscore <- rbind(pons_pathwayscore, thalamic_pathwayscore)\n",
    "clinic_status_pathwayscore <- rbind(primary_pathwayscore, recurrence_pathwayscore)\n"
   ]
  },
  {
   "cell_type": "code",
   "execution_count": null,
   "metadata": {
    "vscode": {
     "languageId": "r"
    }
   },
   "outputs": [],
   "source": [
    "conditions <- c('pons', 'thalamic')\n",
    "for (pathway in unique(location_pathwayscore$Pathway)) {\n",
    "    violin_plot_per_pathway(pathway_score = location_pathwayscore, pathway = pathway, conditions = conditions)\n",
    "}"
   ]
  },
  {
   "cell_type": "code",
   "execution_count": null,
   "metadata": {
    "vscode": {
     "languageId": "r"
    }
   },
   "outputs": [],
   "source": [
    "conditions <- c('primary', 'recurrence')\n",
    "for (pathway in unique(clinic_status_pathwayscore$Pathway)) {\n",
    "    violin_plot_per_pathway(pathway_score = clinic_status_pathwayscore, pathway = pathway, conditions = conditions)\n",
    "}\n"
   ]
  },
  {
   "cell_type": "markdown",
   "metadata": {},
   "source": [
    "### Compare the sample distribution for each cell type"
   ]
  },
  {
   "cell_type": "code",
   "execution_count": null,
   "metadata": {
    "vscode": {
     "languageId": "r"
    }
   },
   "outputs": [],
   "source": [
    "violin_plot_per_celltype <- function(pathway_score, celltype, conditions){\n",
    "    library(ggplot2)\n",
    "    res <- 0\n",
    "    pathway_score <- pathway_score[pathway_score$CellType == celltype, ]\n",
    "    t1 <- pathway_score$Activity[(pathway_score$Condition==conditions[1]) ]\n",
    "    t2 <- pathway_score$Activity[(pathway_score$Condition==conditions[2]) ]\n",
    "    res <- ks.test(t1, t2)\n",
    "    \n",
    "    if (res$p <= 0.05){\n",
    "      print(paste(\"p-val is: \", res$p, \"within \", celltype, \"signalling pathway\"))\n",
    "      violin_plot <- ggplot(pathway_score, aes(x = Condition, y = Activity, color = Condition) ) +\n",
    "        geom_violin() +\n",
    "        labs(title = paste(\"Pathway Activation Scores \\nfor \", celltype),\n",
    "            x = \"Condition\",\n",
    "            y = \"Activation Score\")+\n",
    "            geom_boxplot(width=0.1)+\n",
    "              theme(\n",
    "              legend.text = element_text(size = 18),\n",
    "              legend.title = element_text(size = 18),\n",
    "              plot.title = element_text(size = 20),\n",
    "              plot.subtitle = element_text(size = 20),\n",
    "              axis.text=element_text(size=25),\n",
    "              axis.title=element_text(size=25)\n",
    "        )\n",
    "\n",
    "      print(violin_plot)\n",
    "    }\n",
    "  }\n"
   ]
  },
  {
   "cell_type": "code",
   "execution_count": null,
   "metadata": {
    "vscode": {
     "languageId": "r"
    }
   },
   "outputs": [],
   "source": [
    "conditions <- c('primary', 'recurrence')\n",
    "for (celltype in c('OPC-like')) {\n",
    "        violin_plot_per_celltype(pathway_score = clinic_status_pathwayscore, \n",
    "                                celltype = celltype,\n",
    "                                conditions = conditions)\n",
    "    }"
   ]
  },
  {
   "cell_type": "code",
   "execution_count": null,
   "metadata": {
    "vscode": {
     "languageId": "r"
    }
   },
   "outputs": [],
   "source": [
    "conditions <- c('pons', 'thalamic')\n",
    "for (celltype in c('OPC-like')) {\n",
    "        violin_plot_per_celltype(pathway_score = location_pathwayscore, \n",
    "                                celltype = celltype,\n",
    "                                conditions = conditions)\n",
    "    }"
   ]
  },
  {
   "cell_type": "markdown",
   "metadata": {},
   "source": [
    "### Compare the sample distribution for each pathway and each cell type."
   ]
  },
  {
   "cell_type": "code",
   "execution_count": null,
   "metadata": {
    "vscode": {
     "languageId": "r"
    }
   },
   "outputs": [],
   "source": [
    "violin_plot_per_pathway_celltype <- function(pathway_score, pathway, conditions, celltype){\n",
    "    library(ggplot2)\n",
    "    res <- 0\n",
    "    pathway_score <- pathway_score[pathway_score$CellType == celltype, ]\n",
    "    pathway_score <- pathway_score[pathway_score$Pathway == pathway, ]\n",
    "    t1 <- pathway_score$Activity[(pathway_score$Condition==conditions[1]) ]\n",
    "    t2 <- pathway_score$Activity[(pathway_score$Condition==conditions[2]) ]\n",
    "    res <- ks.test(t1, t2)\n",
    "    \n",
    "    if (res$p <= 0.05){\n",
    "      print(paste(\"p-val is: \", res$p, \"within \", pathway, \"signalling pathway\", \"\\nfor \", celltype))\n",
    "      violin_plot <- ggplot(pathway_score, aes(x = Condition, y = Activity, color = Condition) ) +\n",
    "        geom_violin() +\n",
    "        labs(title = paste(\"Pathway Activation Scores within \", pathway, \"\\nfor \", celltype),\n",
    "            x = \"Condition\",\n",
    "            y = \"Activation Score\")+\n",
    "            geom_boxplot(width=0.1)+\n",
    "              theme(\n",
    "              legend.text = element_text(size = 18),\n",
    "              legend.title = element_text(size = 18),\n",
    "              plot.title = element_text(size = 20),\n",
    "              plot.subtitle = element_text(size = 20),\n",
    "              axis.text=element_text(size=25),\n",
    "              axis.title=element_text(size=25)\n",
    "        )\n",
    "\n",
    "      print(violin_plot)\n",
    "    }\n",
    "  }\n"
   ]
  },
  {
   "cell_type": "code",
   "execution_count": null,
   "metadata": {
    "vscode": {
     "languageId": "r"
    }
   },
   "outputs": [],
   "source": [
    "conditions <- c('primary', 'recurrence')\n",
    "for (pathway in unique(clinic_status_pathwayscore$Pathway)) {\n",
    "    for (celltype in c('OPC-like')) {\n",
    "        violin_plot_per_pathway_celltype(pathway_score = clinic_status_pathwayscore, \n",
    "                                pathway = pathway, \n",
    "                                conditions = conditions,\n",
    "                                celltype = celltype)\n",
    "    }\n",
    "}"
   ]
  },
  {
   "cell_type": "code",
   "execution_count": null,
   "metadata": {
    "vscode": {
     "languageId": "r"
    }
   },
   "outputs": [],
   "source": [
    "conditions <- c('pons', 'thalamic')\n",
    "for (pathway in unique(location_pathwayscore$Pathway)) {\n",
    "    for (celltype in c('OPC-like')) {\n",
    "        violin_plot_per_pathway_celltype(pathway_score = location_pathwayscore, \n",
    "                                pathway = pathway, \n",
    "                                conditions = conditions,\n",
    "                                celltype = celltype)\n",
    "    }\n",
    "}"
   ]
  },
  {
   "cell_type": "code",
   "execution_count": null,
   "metadata": {
    "vscode": {
     "languageId": "r"
    }
   },
   "outputs": [],
   "source": []
  }
 ],
 "metadata": {
  "kernelspec": {
   "display_name": "R",
   "language": "R",
   "name": "ir"
  },
  "language_info": {
   "codemirror_mode": "r",
   "file_extension": ".r",
   "mimetype": "text/x-r-source",
   "name": "R",
   "pygments_lexer": "r",
   "version": "4.2.3"
  }
 },
 "nbformat": 4,
 "nbformat_minor": 2
}
