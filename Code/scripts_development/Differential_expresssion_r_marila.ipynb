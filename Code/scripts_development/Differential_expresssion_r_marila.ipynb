{
 "cells": [
  {
   "cell_type": "markdown",
   "metadata": {},
   "source": [
    "# Set up"
   ]
  },
  {
   "cell_type": "code",
   "execution_count": null,
   "metadata": {
    "vscode": {
     "languageId": "r"
    }
   },
   "outputs": [],
   "source": [
    "params1 = list(\n",
    "  counts   = paste(\"../data/scRNA_counts\", \"GSE184357_counts_frozen_postFilter.txt\", sep = '/'),\n",
    "  meta     = paste(\"../data/metadata\", \"GSE184357_metadata_frozen_postFilter.txt\", sep='/'),\n",
    "  out_name = \"GSE184357_frozen\",\n",
    "  species  = \"h_sapiens\"\n",
    ")\n",
    "output_file1 = here::here(\"output/\", glue::glue(\"preprocessing_GSE184357_frozen_\", Sys.Date(), \".html\"))"
   ]
  },
  {
   "cell_type": "code",
   "execution_count": null,
   "metadata": {
    "vscode": {
     "languageId": "r"
    }
   },
   "outputs": [],
   "source": [
    "params2 = list(\n",
    "  counts   = paste(\"../data/scRNA_counts\", \"GSE184357_counts_fresh_postFilter.txt\", sep = '/'),\n",
    "  meta     = paste(\"../data/metadata\", \"GSE184357_metadata_fresh_postFilter.txt\", sep='/'),\n",
    "  out_name = \"GSE184357_fresh\",\n",
    "  species  = \"h_sapiens\"\n",
    ")\n",
    "output_file2 = here::here(\"output/\", glue::glue(\"preprocessing_GSE184357_fresh_\", Sys.Date(), \".html\"))"
   ]
  },
  {
   "cell_type": "code",
   "execution_count": null,
   "metadata": {
    "vscode": {
     "languageId": "r"
    }
   },
   "outputs": [],
   "source": [
    "params = list(\n",
    "  out_name = \"GSE184357_fresh&frozen\",\n",
    "  species  = \"h_sapiens\"\n",
    ")\n",
    "output_file3 = here::here(\"output/\", glue::glue(\"preprocessing_GSE184357_fresh&frozen_\", Sys.Date(), \".html\"))"
   ]
  },
  {
   "cell_type": "code",
   "execution_count": null,
   "metadata": {
    "vscode": {
     "languageId": "r"
    }
   },
   "outputs": [],
   "source": [
    "# set up\n",
    "knitr::opts_chunk$set(\n",
    "  eval       = TRUE,\n",
    "  echo       = TRUE,\n",
    "\terror      = FALSE,\n",
    "\tfig.align  = \"center\",\n",
    "\tmessage    = TRUE,\n",
    "\twarning    = FALSE,\n",
    "\tautodep    = TRUE,\n",
    "\tcache      = FALSE,\n",
    "\tcache.lazy = FALSE,\n",
    "\tresults    = \"markup\",\n",
    "  fig.path   = here::here(paste(\"Figures/\", params$out_name, sep=\"/\")),\n",
    "  fig.keep   = \"all\",\n",
    "  dev        = \"png\"\n",
    ")"
   ]
  },
  {
   "cell_type": "code",
   "execution_count": null,
   "metadata": {
    "vscode": {
     "languageId": "r"
    }
   },
   "outputs": [],
   "source": [
    "set.seed(42)\n"
   ]
  },
  {
   "cell_type": "code",
   "execution_count": null,
   "metadata": {
    "vscode": {
     "languageId": "r"
    }
   },
   "outputs": [],
   "source": [
    "# out_dir\n",
    "folder_path <- here::here(paste(\"figures\", params$out_name, sep = \"/\"))\n",
    "if (!dir.exists(folder_path)) {\n",
    "  dir.create(folder_path)\n",
    "} "
   ]
  },
  {
   "cell_type": "code",
   "execution_count": null,
   "metadata": {
    "vscode": {
     "languageId": "r"
    }
   },
   "outputs": [],
   "source": [
    "# Load libraries\n",
    "library(here)\n",
    "library(Seurat)\n",
    "library(dplyr)\n",
    "library(stringr)\n",
    "library(ggplot2)\n",
    "library(glue)\n",
    "library(harmony)\n",
    "library(magrittr)\n",
    "library(DT)\n",
    "library(openxlsx)\n",
    "library(data.table)\n",
    "\n",
    "source(\"../Utils/Differential_Gene_Expression_Analysis.R\")"
   ]
  },
  {
   "cell_type": "markdown",
   "metadata": {},
   "source": [
    "# Protocol"
   ]
  },
  {
   "cell_type": "markdown",
   "metadata": {},
   "source": [
    "This pipeline is based on the work of [Mariella Filbin](https://www.nature.com/articles/s41588-022-01236-3) and inspired of the code available [here](https://zenodo.org/records/7073167). Thanks a lot for the initialization of [Clara](omixanalytics@gmail.com)'s help for the DEG analyis."
   ]
  },
  {
   "cell_type": "markdown",
   "metadata": {},
   "source": [
    "# Load data"
   ]
  },
  {
   "cell_type": "markdown",
   "metadata": {},
   "source": [
    "## scRNA-seq counts"
   ]
  },
  {
   "cell_type": "code",
   "execution_count": null,
   "metadata": {
    "vscode": {
     "languageId": "r"
    }
   },
   "outputs": [],
   "source": [
    "message(\"Import counts for frozen samples: \", params1$counts)\n",
    "counts1 <- read.csv2(params1$counts, header = TRUE, sep = \"\\t\")\n",
    "\n",
    "message(\"Import counts fresh samples: \", params2$counts)\n",
    "counts2 <- read.csv2(params2$counts, header = TRUE, sep = \"\\t\")\n",
    "\n",
    "counts.combined <- rbind(t(counts1), t(counts2))\n",
    "dim(counts.combined)\n"
   ]
  },
  {
   "cell_type": "markdown",
   "metadata": {},
   "source": [
    "## Metadata"
   ]
  },
  {
   "cell_type": "code",
   "execution_count": null,
   "metadata": {
    "vscode": {
     "languageId": "r"
    }
   },
   "outputs": [],
   "source": [
    "message(\"Import counts: \", params1$meta)\n",
    "meta1 <- read.csv2(params1$meta, header = TRUE, sep = \"\\t\")\n",
    "\n",
    "message(\"Import counts: \", params2$meta)\n",
    "meta2 <- read.csv2(params2$meta, header = TRUE, sep = \"\\t\")\n",
    "\n",
    "meta.combined <- rbind(meta1, meta2)\n",
    "dim(meta.combined)\n"
   ]
  },
  {
   "cell_type": "code",
   "execution_count": null,
   "metadata": {
    "vscode": {
     "languageId": "r"
    }
   },
   "outputs": [],
   "source": [
    "meta3 <- read.csv(file = \"../../scRNAseq_IlonLiu/scRNA_meta.csv\")\n",
    "sample_to_clinical_status <- setNames(meta3$clinical.status, meta3$Patient.ID)\n",
    "\n",
    "# Map sample to clinical status and create new column\n",
    "meta.combined <- meta.combined %>%\n",
    "    mutate(clinical_status = sample_to_clinical_status[sample])\n",
    "    "
   ]
  },
  {
   "cell_type": "code",
   "execution_count": null,
   "metadata": {
    "vscode": {
     "languageId": "r"
    }
   },
   "outputs": [],
   "source": [
    "meta.combined"
   ]
  },
  {
   "cell_type": "code",
   "execution_count": null,
   "metadata": {
    "vscode": {
     "languageId": "r"
    }
   },
   "outputs": [],
   "source": [
    "meta.combined <- meta.combined %>%\n",
    "  mutate(annotation = ifelse(grepl(\"^OPC-like\", annotation), \"OPC-like\", annotation))\n",
    "  \n",
    "meta.combined"
   ]
  },
  {
   "cell_type": "markdown",
   "metadata": {},
   "source": [
    "## Data description"
   ]
  },
  {
   "cell_type": "code",
   "execution_count": null,
   "metadata": {
    "vscode": {
     "languageId": "r"
    }
   },
   "outputs": [],
   "source": [
    "table(meta.combined$location)\n",
    "table(meta.combined$sample, meta.combined$location)\n",
    "table(meta.combined)\n"
   ]
  },
  {
   "cell_type": "markdown",
   "metadata": {},
   "source": [
    "## Import Seurat object"
   ]
  },
  {
   "cell_type": "code",
   "execution_count": null,
   "metadata": {
    "vscode": {
     "languageId": "r"
    }
   },
   "outputs": [],
   "source": [
    "dim(counts.combined)"
   ]
  },
  {
   "cell_type": "code",
   "execution_count": null,
   "metadata": {
    "vscode": {
     "languageId": "r"
    }
   },
   "outputs": [],
   "source": [
    "head(meta.combined)"
   ]
  },
  {
   "cell_type": "code",
   "execution_count": null,
   "metadata": {
    "vscode": {
     "languageId": "r"
    }
   },
   "outputs": [],
   "source": [
    "seu <- CreateSeuratObject(\n",
    "  counts       = t(counts.combined),\n",
    "  assay        = \"RNA\",\n",
    "  meta.data    = meta.combined,\n",
    "  project      = params$out_name,\n",
    "  min.cells    = 0,\n",
    "  min.features = 0\n",
    "  #min.genes   = 0,\n",
    "  #names.field = 1, \n",
    "  #names.delim = 1,\n",
    ")\n"
   ]
  },
  {
   "cell_type": "code",
   "execution_count": null,
   "metadata": {
    "vscode": {
     "languageId": "r"
    }
   },
   "outputs": [],
   "source": [
    "seu"
   ]
  },
  {
   "cell_type": "markdown",
   "metadata": {},
   "source": [
    "# Quality control"
   ]
  },
  {
   "cell_type": "code",
   "execution_count": null,
   "metadata": {
    "vscode": {
     "languageId": "r"
    }
   },
   "outputs": [],
   "source": [
    "DefaultAssay(seu) <- \"RNA\"\n",
    "\n",
    "# Compute, for each cell, the proportion of reads in mitochondrial genes, and add to the metadata\n",
    "pattern <- switch(params$species,\n",
    "                 \"h_sapiens\" = \"^MT-\",\n",
    "                 \"m_musculus\" = \"^mt-\"\n",
    "                 )\n",
    "seu[[\"percent.mito\"]] <- PercentageFeatureSet(object = seu, pattern = pattern)"
   ]
  },
  {
   "cell_type": "code",
   "execution_count": null,
   "metadata": {
    "vscode": {
     "languageId": "r"
    }
   },
   "outputs": [],
   "source": [
    "# Compute, for each cell, the proportion of reads in ribosomal genes, and add to the metadata\n",
    "pattern = switch(params$species,\n",
    "                 \"h_sapiens\" = \"^RPS|^RPL|^MRPS|^MRPL\", # \"^RP[SL]|^M?RP[SL]\"\n",
    "                 \"m_musculus\" = \"^Rps|^Rpl|^Mrps|^Mrpl\" # \"^Rp[sl]|^M?rp[sl]\"\n",
    "                 )\n",
    "seu[[\"percent.ribo\"]] = PercentageFeatureSet(object = seu, pattern = pattern)"
   ]
  },
  {
   "cell_type": "code",
   "execution_count": null,
   "metadata": {
    "vscode": {
     "languageId": "r"
    }
   },
   "outputs": [],
   "source": [
    "# Add number of genes per UMI for each cell to metadata object\n",
    "seu[[\"log10nGene\"]] = log10(seu@meta.data$nFeature_RNA)\n",
    "\n",
    "# Add number of genes per UMI for each cell to metadata object\n",
    "seu[[\"log10nUMI\"]] = log10(seu@meta.data$nCount_RNA)\n",
    "\n",
    "# Add number of genes per UMI for each cell to metadata object\n",
    "seu[[\"log10GenesPerUMI\"]] = seu@meta.data$log10nGene/seu@meta.data$log10nUMI"
   ]
  },
  {
   "cell_type": "markdown",
   "metadata": {},
   "source": [
    "# Normalization"
   ]
  },
  {
   "cell_type": "markdown",
   "metadata": {},
   "source": [
    "## Log normalization & scaling"
   ]
  },
  {
   "cell_type": "code",
   "execution_count": null,
   "metadata": {
    "vscode": {
     "languageId": "r"
    }
   },
   "outputs": [],
   "source": [
    "# Normalize data\n",
    "seu <- NormalizeData(\n",
    "    object               = seu,\n",
    "    normalization.method = \"LogNormalize\",\n",
    "    scale.factor         = 1E4\n",
    ")\n",
    "    \n",
    "# Detection of variable genes across the single cells\n",
    "seu <- FindVariableFeatures(\n",
    "    object           = seu,\n",
    "    selection.method = \"vst\",\n",
    "    nfeatures        = 2000\n",
    ")\n",
    "\n",
    "# Scaling the data and removing unwanted sources of variation\n",
    "all.genes <- rownames(seu)\n",
    "seu <- ScaleData(\n",
    "  object    = seu,\n",
    "  features  = all.genes,\n",
    "  do.scale  = FALSE,\n",
    "  do.center = TRUE\n",
    "  #vars.to.regress = c(\"nUMI\")\n",
    ")\n"
   ]
  },
  {
   "cell_type": "markdown",
   "metadata": {},
   "source": [
    "# Dimension reduction"
   ]
  },
  {
   "cell_type": "code",
   "execution_count": null,
   "metadata": {
    "vscode": {
     "languageId": "r"
    }
   },
   "outputs": [],
   "source": [
    "DefaultAssay(seu) <- \"RNA\"\n",
    "# PCA\n",
    "nPCs <- 50\n",
    "seu <- RunPCA(\n",
    "  object   = seu, \n",
    "  features = VariableFeatures(object = seu), \n",
    "  npcs     = nPCs\n",
    ")\n",
    "print(seu[[\"pca\"]], nDims = 1:5, nFeatures = 1:5)"
   ]
  },
  {
   "cell_type": "code",
   "execution_count": null,
   "metadata": {
    "vscode": {
     "languageId": "r"
    }
   },
   "outputs": [],
   "source": [
    "VizDimLoadings(seu, dims = 1:2, reduction = \"pca\")"
   ]
  },
  {
   "cell_type": "code",
   "execution_count": null,
   "metadata": {
    "vscode": {
     "languageId": "r"
    }
   },
   "outputs": [],
   "source": [
    "DimHeatmap(seu, dims = 1, cells = 500, balanced = TRUE)"
   ]
  },
  {
   "cell_type": "code",
   "execution_count": null,
   "metadata": {
    "vscode": {
     "languageId": "r"
    }
   },
   "outputs": [],
   "source": [
    "DimHeatmap(seu, dims = 1:15, cells = 500, balanced = TRUE)"
   ]
  },
  {
   "cell_type": "code",
   "execution_count": null,
   "metadata": {
    "vscode": {
     "languageId": "r"
    }
   },
   "outputs": [],
   "source": [
    "ElbowPlot(object = seu, ndims = nPCs)\n",
    "pcs <- elbow_pcs(seu, ndims = 50, graph = \"pca\")"
   ]
  },
  {
   "cell_type": "markdown",
   "metadata": {},
   "source": [
    "# Harmony data integration "
   ]
  },
  {
   "cell_type": "code",
   "execution_count": null,
   "metadata": {
    "vscode": {
     "languageId": "r"
    }
   },
   "outputs": [],
   "source": [
    "# Run Harmony\n",
    "seu <- RunHarmony(\n",
    "  seu,\n",
    "  \"sample\",\n",
    "  theta            = 2, \n",
    "  max.iter.harmony = 50,\n",
    "  plot_convergence = TRUE\n",
    ")\n",
    "\n",
    "# Simple dim and vlnplot to examine integration \n",
    "DimPlot(object = seu, reduction = \"harmony\", pt.size = .1, group.by = \"sample\")"
   ]
  },
  {
   "cell_type": "code",
   "execution_count": null,
   "metadata": {
    "vscode": {
     "languageId": "r"
    }
   },
   "outputs": [],
   "source": [
    "DimHeatmap(seu, dims = 1, cells = 500, balanced = TRUE, reduction = \"harmony\")\n"
   ]
  },
  {
   "cell_type": "code",
   "execution_count": null,
   "metadata": {
    "vscode": {
     "languageId": "r"
    }
   },
   "outputs": [],
   "source": [
    "DimHeatmap(seu, dims = 1:15, cells = 500, balanced = TRUE, reduction = \"harmony\")\n"
   ]
  },
  {
   "cell_type": "markdown",
   "metadata": {},
   "source": [
    "# UMAP and Clustering"
   ]
  },
  {
   "cell_type": "code",
   "execution_count": null,
   "metadata": {
    "vscode": {
     "languageId": "r"
    }
   },
   "outputs": [],
   "source": [
    "pcs <- elbow_pcs(seu, ndims = 50, graph = \"harmony\")\n"
   ]
  },
  {
   "cell_type": "code",
   "execution_count": null,
   "metadata": {
    "vscode": {
     "languageId": "r"
    }
   },
   "outputs": [],
   "source": [
    "resolution <- 0.6\n",
    "reduction_type <-  \"harmony\"\n",
    "dims <-  20\n",
    "system.time({\n",
    "seu %<>% RunUMAP(reduction = reduction_type, dims = 1:dims)\n",
    "seu %<>% FindNeighbors(\n",
    "  reduction    = reduction_type,\n",
    "  dims         = 1:dims,\n",
    "  force.recalc = TRUE\n",
    ")    \n",
    "seu %<>% FindClusters(resolution = resolution)\n",
    "})\n",
    "table(Idents(seu))"
   ]
  },
  {
   "cell_type": "markdown",
   "metadata": {},
   "source": [
    "# UMAP visualization"
   ]
  },
  {
   "cell_type": "code",
   "execution_count": null,
   "metadata": {
    "vscode": {
     "languageId": "r"
    }
   },
   "outputs": [],
   "source": [
    "DimPlot(\n",
    "  object     = seu, \n",
    "  group.by   = c(\"sample\", \"location\", \"annotation\"), \n",
    "  label      = TRUE, \n",
    "  pt.size    = 3, \n",
    "  label.size = 0\n",
    ") & NoAxes()"
   ]
  },
  {
   "cell_type": "code",
   "execution_count": null,
   "metadata": {
    "vscode": {
     "languageId": "r"
    }
   },
   "outputs": [],
   "source": [
    "DimPlot(seu, group.by = c(\"seurat_clusters\", \"RNA_snn_res.0.6\", \"annotation\"), ncol = 3, label = TRUE, repel = TRUE)\n"
   ]
  },
  {
   "cell_type": "code",
   "execution_count": null,
   "metadata": {
    "vscode": {
     "languageId": "r"
    }
   },
   "outputs": [],
   "source": [
    "DimPlot(seu, group.by = \"seurat_clusters\", split.by = \"location\", label = TRUE, repel = TRUE)\n"
   ]
  },
  {
   "cell_type": "code",
   "execution_count": null,
   "metadata": {
    "vscode": {
     "languageId": "r"
    }
   },
   "outputs": [],
   "source": [
    "DimPlot(seu, group.by = \"seurat_clusters\", split.by = \"annotation\", label = TRUE, repel = TRUE)\n"
   ]
  },
  {
   "cell_type": "code",
   "execution_count": null,
   "metadata": {
    "vscode": {
     "languageId": "r"
    }
   },
   "outputs": [],
   "source": [
    "DimPlot(seu, group.by = \"annotation\", split.by = \"location\", label = TRUE, repel = TRUE)\n"
   ]
  },
  {
   "cell_type": "markdown",
   "metadata": {},
   "source": [
    "# Cluster biomarkers"
   ]
  },
  {
   "cell_type": "markdown",
   "metadata": {},
   "source": [
    "## SC analysis"
   ]
  },
  {
   "cell_type": "markdown",
   "metadata": {},
   "source": [
    "### Between clusters"
   ]
  },
  {
   "cell_type": "code",
   "execution_count": null,
   "metadata": {
    "vscode": {
     "languageId": "r"
    }
   },
   "outputs": [],
   "source": [
    "seu"
   ]
  },
  {
   "cell_type": "code",
   "execution_count": null,
   "metadata": {
    "vscode": {
     "languageId": "r"
    }
   },
   "outputs": [],
   "source": [
    "cl_marker.sc.de <- FindAllMarkers(\n",
    "  seu,\n",
    "  only.pos        = TRUE, \n",
    "  logfc.threshold = 0.7,\n",
    "  min.pct         = 0.5,\n",
    "  test.use = \"MAST\"\n",
    ")\n",
    "\n",
    "cl_marker.sc.de <- cl_marker.sc.de[cl_marker.sc.de$p_val_adj <= 0.05, ]\n"
   ]
  },
  {
   "cell_type": "code",
   "execution_count": null,
   "metadata": {
    "vscode": {
     "languageId": "r"
    }
   },
   "outputs": [],
   "source": [
    "num_marker_genes <- 25\n",
    "cl_marker.sc.de %>% group_by(cluster) %>% top_n(num_marker_genes, avg_log2FC) -> top_marker_genes\n",
    "top_marker_genes <- data.frame(top_marker_genes)\n",
    "datatable(top_marker_genes)\n"
   ]
  },
  {
   "cell_type": "code",
   "execution_count": null,
   "metadata": {
    "vscode": {
     "languageId": "r"
    }
   },
   "outputs": [],
   "source": [
    "head(top_marker_genes)"
   ]
  },
  {
   "cell_type": "markdown",
   "metadata": {},
   "source": [
    "### Between cell types"
   ]
  },
  {
   "cell_type": "code",
   "execution_count": null,
   "metadata": {
    "vscode": {
     "languageId": "r"
    }
   },
   "outputs": [],
   "source": [
    "Idents(seu) <- seu@meta.data$annotation\n",
    "cell_mark.sc.de <- FindAllMarkers(\n",
    "  seu,\n",
    "  only.pos        = TRUE, \n",
    "  logfc.threshold = 0.7,\n",
    "  min.pct         = 0.5,\n",
    "  test.use = \"MAST\"\n",
    ")\n"
   ]
  },
  {
   "cell_type": "code",
   "execution_count": null,
   "metadata": {
    "vscode": {
     "languageId": "r"
    }
   },
   "outputs": [],
   "source": [
    "num_marker_genes <- 25\n",
    "cell_mark.sc.de %>% group_by(cluster) %>% top_n(num_marker_genes, avg_log2FC) -> top_marker_genes\n",
    "top_marker_genes <- data.frame(top_marker_genes)\n",
    "datatable(top_marker_genes)\n",
    "top_marker_genes"
   ]
  },
  {
   "cell_type": "markdown",
   "metadata": {},
   "source": [
    "## Pseudobulking"
   ]
  },
  {
   "cell_type": "markdown",
   "metadata": {},
   "source": [
    "### DE Location"
   ]
  },
  {
   "cell_type": "code",
   "execution_count": null,
   "metadata": {
    "vscode": {
     "languageId": "r"
    }
   },
   "outputs": [],
   "source": [
    "# pseudobulk the counts based on location-sample-celltype\n",
    "pseudo_seu <- AggregateExpression(seu, assays = \"RNA\", return.seurat = T, group.by = c(\"sample\", \"annotation\"))\n",
    "\n",
    "# each 'cell' is a sample-celltype pseudobulk profile\n",
    "tail(Cells(pseudo_seu))\n",
    "\n",
    "Idents(pseudo_seu) <- seu@meta.data$annotation\n",
    "\n",
    "bulk.de <- FindAllMarkers(  \n",
    "object = pseudo_seu,\n",
    "only.pos = TRUE, \n",
    "logfc.threshold = 0.7,\n",
    "min.pct = 0.5,\n",
    "test.use = \"MAST\")"
   ]
  },
  {
   "cell_type": "code",
   "execution_count": null,
   "metadata": {
    "vscode": {
     "languageId": "r"
    }
   },
   "outputs": [],
   "source": [
    "num_marker_genes <- 25\n",
    "bulk.de %>% group_by(cluster) %>% top_n(num_marker_genes, avg_log2FC) -> top_marker_genes\n",
    "top_marker_genes <- data.frame(top_marker_genes)\n",
    "datatable(top_marker_genes)\n",
    "top_marker_genes\n"
   ]
  },
  {
   "cell_type": "code",
   "execution_count": null,
   "metadata": {
    "vscode": {
     "languageId": "r"
    }
   },
   "outputs": [],
   "source": [
    "head(top_marker_genes)"
   ]
  },
  {
   "cell_type": "code",
   "execution_count": null,
   "metadata": {
    "vscode": {
     "languageId": "r"
    }
   },
   "outputs": [],
   "source": [
    "# PseudoBulking \n",
    "bulk.de.sg <- bulk.de[bulk.de$p_val_adj <= 0.05, ]\n",
    "\n",
    "# scRNA\n",
    "cell_mark.sc.de.sg <- cell_mark.sc.de[cell_mark.sc.de$p_val_adj <= 0.05, ]\n",
    "\n",
    "# compare the DE P-values between the single-cell level and the pseudobulk level results\n",
    "names(bulk.de.sg) <- paste0(names(bulk.de.sg), \".bulk\")\n",
    "bulk.de.sg$gene <- rownames(bulk.de.sg)\n",
    "\n",
    "names(cell_mark.sc.de.sg) <- paste0(names(cell_mark.sc.de.sg), \".sc\")\n",
    "cell_mark.sc.de.sg$gene <- rownames(cell_mark.sc.de.sg)\n",
    "\n",
    "merge_dat <- merge(cell_mark.sc.de.sg, bulk.de.sg, by = \"gene\")\n",
    "merge_dat <- merge_dat[order(merge_dat$p_val.bulk), ]\n",
    "\n",
    "# Number of genes that are marginally significant in both; marginally significant only in bulk; and marginally significant only in single-cell\n",
    "common <- merge_dat$gene[which(merge_dat$p_val.bulk <= 0.05 & \n",
    "                                merge_dat$p_val.sc <= 0.05)]\n",
    "                                \n",
    "print(paste0('# scRNA DEG: ', length(unique(cell_mark.sc.de.sg$gene))))\n",
    "print(paste0('# Pseudo-bulking DEG: ', length(unique(bulk.de.sg$gene))))\n",
    "print(paste0('# Common DEG: ', length(common)))\n"
   ]
  },
  {
   "cell_type": "markdown",
   "metadata": {},
   "source": [
    "# Export data"
   ]
  },
  {
   "cell_type": "markdown",
   "metadata": {},
   "source": [
    "## Seurat object"
   ]
  },
  {
   "cell_type": "code",
   "execution_count": null,
   "metadata": {
    "vscode": {
     "languageId": "r"
    }
   },
   "outputs": [],
   "source": [
    "saveRDS(seu, file = here(\"output\", glue(\"seu_\", params$out_name, \".rds\")))\n",
    "saveRDS(pseudo_seu, file = here(\"output\", glue(\"pseudo_seu_\", params$out_name, \".rds\")))\n"
   ]
  },
  {
   "cell_type": "code",
   "execution_count": null,
   "metadata": {
    "vscode": {
     "languageId": "r"
    }
   },
   "outputs": [],
   "source": [
    "# Cluster biomarkers\n",
    "write.table(cl_marker.sc.de, file = here(\"output\", glue(\"cl_biomarkers_\", params$out_name, \".csv\")), sep = \",\", dec = \".\", col.names = TRUE, row.names = FALSE)\n",
    "write.xlsx(cl_marker.sc.de, file = here(\"output\", glue(\"cl_biomarkers_\", params$out_name, \".xlsx\")))\n",
    "\n",
    "# Cell biomarkers\n",
    "write.table(cell_mark.sc.de.sg, file = here(\"output\", glue(\"cell_biomarkers_\", params$out_name, \".csv\")), sep = \",\", dec = \".\", col.names = TRUE, row.names = FALSE)\n",
    "write.xlsx(cell_mark.sc.de.sg, file = here(\"output\", glue(\"cell_biomarkers_\", params$out_name, \".xlsx\")))\n",
    "\n",
    "# Pseudobulking biomarkers\n",
    "write.table(bulk.de.sg, file = here(\"output\", glue(\"psebulk_\", params$out_name, \".csv\")), sep = \",\", dec = \".\", col.names = TRUE, row.names = FALSE)\n",
    "write.xlsx(bulk.de.sg, file = here(\"output\", glue(\"psebulk_\", params$out_name, \".xlsx\")))\n"
   ]
  },
  {
   "cell_type": "code",
   "execution_count": null,
   "metadata": {
    "vscode": {
     "languageId": "r"
    }
   },
   "outputs": [],
   "source": []
  }
 ],
 "metadata": {
  "kernelspec": {
   "display_name": "R",
   "language": "R",
   "name": "ir"
  },
  "language_info": {
   "codemirror_mode": "r",
   "file_extension": ".r",
   "mimetype": "text/x-r-source",
   "name": "R",
   "pygments_lexer": "r",
   "version": "4.2.3"
  }
 },
 "nbformat": 4,
 "nbformat_minor": 2
}
