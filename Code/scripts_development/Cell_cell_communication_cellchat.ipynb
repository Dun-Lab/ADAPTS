{
 "cells": [
  {
   "cell_type": "markdown",
   "metadata": {},
   "source": [
    "# Cell-cell communication (CCC)"
   ]
  },
  {
   "cell_type": "markdown",
   "metadata": {
    "vscode": {
     "languageId": "r"
    }
   },
   "source": [
    "* Tool: cellchat\n",
    "* Github: https://github.com/sqjin/CellChat\n",
    "* Paper: https://www.nature.com/articles/s41467-021-21246-9"
   ]
  },
  {
   "cell_type": "code",
   "execution_count": null,
   "metadata": {
    "vscode": {
     "languageId": "r"
    }
   },
   "outputs": [],
   "source": [
    "library(devtools)\n",
    "if (!require(\"BiocManager\", quietly = TRUE))\n",
    "    install.packages(\"BiocManager\")\n",
    "\n",
    "install.packages('NMF')\n",
    "install.packages(\"anndata\")\n",
    "Sys.setenv(R_REMOTES_NO_ERRORS_FROM_WARNINGS=TRUE)\n",
    "devtools::install_github(\"jokergoo/circlize\")\n",
    "devtools::install_github(\"jokergoo/ComplexHeatmap\")\n",
    "BiocManager::install(\"BiocNeighbors\")\n",
    "BiocManager::install(\"zellkonverter\")\n",
    "devtools::install_github(\"prestodb/RPresto\")\n",
    "devtools::install_github(\"jinworks/CellChat\")"
   ]
  },
  {
   "cell_type": "code",
   "execution_count": 3,
   "metadata": {
    "vscode": {
     "languageId": "r"
    }
   },
   "outputs": [
    {
     "ename": "ERROR",
     "evalue": "Error in reticulate::use_python(\"/Users/suoqinjin/anaconda3/bin/python\", : Specified version of python '/Users/suoqinjin/anaconda3/bin/python' does not exist.\n",
     "output_type": "error",
     "traceback": [
      "Error in reticulate::use_python(\"/Users/suoqinjin/anaconda3/bin/python\", : Specified version of python '/Users/suoqinjin/anaconda3/bin/python' does not exist.\nTraceback:\n",
      "1. reticulate::use_python(\"/Users/suoqinjin/anaconda3/bin/python\", \n .     required = T)",
      "2. stop(\"Specified version of python '\", python, \"' does not exist.\")"
     ]
    }
   ],
   "source": [
    "library(CellChat)\n",
    "library(patchwork)\n",
    "library(anndata)\n",
    "options(stringsAsFactors = FALSE)\n",
    "# reticulate::use_python(\"/Users/suoqinjin/anaconda3/bin/python\", required=T) "
   ]
  },
  {
   "cell_type": "code",
   "execution_count": null,
   "metadata": {
    "vscode": {
     "languageId": "r"
    }
   },
   "outputs": [],
   "source": [
    "data.input <- seurat_object[[\"RNA\"]]@data # normalized data matrix\n",
    "# For Seurat version >= “5.0.0”, get the normalized data via `seurat_object[[\"RNA\"]]$data`\n",
    "labels <- Idents(seurat_object)\n",
    "meta <- data.frame(labels = labels, row.names = names(labels)) # create a dataframe of the cell labels\n"
   ]
  },
  {
   "cell_type": "code",
   "execution_count": null,
   "metadata": {
    "vscode": {
     "languageId": "r"
    }
   },
   "outputs": [],
   "source": [
    "cellchat <- addMeta(cellchat, meta = meta)\n",
    "cellchat <- setIdent(cellchat, ident.use = \"labels\") # set \"labels\" as default cell identity\n",
    "levels(cellchat@idents) # show factor levels of the cell labels\n",
    "groupSize <- as.numeric(table(cellchat@idents)) # number of cells in each cell group"
   ]
  }
 ],
 "metadata": {
  "kernelspec": {
   "display_name": "R",
   "language": "R",
   "name": "ir"
  },
  "language_info": {
   "codemirror_mode": "r",
   "file_extension": ".r",
   "mimetype": "text/x-r-source",
   "name": "R",
   "pygments_lexer": "r",
   "version": "4.4.0"
  }
 },
 "nbformat": 4,
 "nbformat_minor": 2
}
